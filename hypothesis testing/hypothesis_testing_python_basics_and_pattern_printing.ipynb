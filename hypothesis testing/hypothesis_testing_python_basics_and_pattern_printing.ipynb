{
  "nbformat": 4,
  "nbformat_minor": 0,
  "metadata": {
    "colab": {
      "name": "hypothesis testing, python basics and pattern printing",
      "provenance": [],
      "collapsed_sections": []
    },
    "kernelspec": {
      "name": "python3",
      "display_name": "Python 3"
    },
    "language_info": {
      "name": "python"
    }
  },
  "cells": [
    {
      "cell_type": "markdown",
      "source": [
        "Binomial Distribution"
      ],
      "metadata": {
        "id": "3H0O0LLF-m-S"
      }
    },
    {
      "cell_type": "markdown",
      "source": [
        "The probability of a man hitting the target at a shooting range is 1/4. \n",
        "\n",
        "If he shoots 10 times, what is the probability that he hits the target exactly three times?\n",
        "\n",
        "What is the probability that he hits the target exactly three times?\n"
      ],
      "metadata": {
        "id": "gaQJIBxGq2VD"
      }
    },
    {
      "cell_type": "code",
      "source": [
        "from scipy.stats import binom,norm"
      ],
      "metadata": {
        "id": "5oqjGM7p7uyX"
      },
      "execution_count": 1,
      "outputs": []
    },
    {
      "cell_type": "code",
      "source": [
        "#it takes n and p as parameters\n",
        "#it returns mean and variance\n",
        "n = 20\n",
        "p = .5\n",
        "binom.stats(n, p)"
      ],
      "metadata": {
        "colab": {
          "base_uri": "https://localhost:8080/"
        },
        "id": "GY1iuosK8CQD",
        "outputId": "04f21161-7230-44d0-f6fa-5d09905ed553"
      },
      "execution_count": 2,
      "outputs": [
        {
          "output_type": "execute_result",
          "data": {
            "text/plain": [
              "(array(10.), array(5.))"
            ]
          },
          "metadata": {},
          "execution_count": 2
        }
      ]
    },
    {
      "cell_type": "code",
      "source": [
        "#for single probability\n",
        "#it takes parameters r,n,p\n",
        "r = 3\n",
        "n = 10\n",
        "p = 1/4\n",
        "binom.pmf(r,n,p)"
      ],
      "metadata": {
        "colab": {
          "base_uri": "https://localhost:8080/"
        },
        "id": "ke-8-pdj8RMe",
        "outputId": "d597cc3c-1114-4abc-ad94-e4e8e8f32e71"
      },
      "execution_count": 3,
      "outputs": [
        {
          "output_type": "execute_result",
          "data": {
            "text/plain": [
              "0.2502822875976565"
            ]
          },
          "metadata": {},
          "execution_count": 3
        }
      ]
    },
    {
      "cell_type": "markdown",
      "source": [
        "A group of 12 students from a particular college have applied for a job at a particular company. \n",
        "\n",
        "Historically the probability that a student from that college gets the job is 0.25. \n",
        "Calculate the probability that more than 2 people from that college are selected for the job."
      ],
      "metadata": {
        "id": "sdQP8KQg3110"
      }
    },
    {
      "cell_type": "code",
      "source": [
        "#for multiple probabilities\n",
        "r = 2\n",
        "n = 12\n",
        "p =.25\n",
        "\n",
        "#probabilities of faliure\n",
        "prob =[]\n",
        "\n",
        "for y in range (0,r+1):\n",
        "    prob.append(binom.pmf(y,n,p))\n",
        "\n",
        "#probability of success\n",
        "1-sum(prob)"
      ],
      "metadata": {
        "id": "5ADxOxa32c5k",
        "colab": {
          "base_uri": "https://localhost:8080/"
        },
        "outputId": "7d71f9a5-4ccb-4e09-cadf-23bc9ea37b81"
      },
      "execution_count": 4,
      "outputs": [
        {
          "output_type": "execute_result",
          "data": {
            "text/plain": [
              "0.609324991703034"
            ]
          },
          "metadata": {},
          "execution_count": 4
        }
      ]
    },
    {
      "cell_type": "markdown",
      "source": [
        "z test python"
      ],
      "metadata": {
        "id": "foMZ-SLRCT7q"
      }
    },
    {
      "cell_type": "markdown",
      "source": [
        "![Critical-z-values-used-in-the-calculation-of-confidence-intervals.png](data:image/png;base64,iVBORw0KGgoAAAANSUhEUgAAAqEAAAGaCAMAAAAIKWqfAAAABGdBTUEAALGPC/xhBQAAAAFzUkdCAK7OHOkAAAAJdnBBZwAABvoAAAkjAHNz/qIAAAA2UExURf///8vNzXR4eEJGRiosLOXl5w4QEAgICFJWVp2fobW1txQYGB4gIjQ4OmJmZoeLi4+Rk0RISDStE2wAACAASURBVHgB7V2Jdts8r7Ss1ZaX/77/y94BQFCEJKfp1zgxndE5jURxAwcwF4jlHA68iAARIAJEgAgQASJABIgAESACRIAIEAEi8LoI9KfbdGq+TL5mOi9l9WVgef0bn/pTgctvBOC/trlpR726gN9p7JYCQ2B57U+r6G72CLnHUBkTnldlhLjPBaZS4s9l+TjVNE45wb+Ld5iA8mFVTllFrosPEYHzMI7XabridixiEpTdeMLLFa5FMn2M0cdQzqEp9LzOWIRjGUVEfDR54rsUenELPY5D266RpIXuqjK8hIFee3nToystetFmUns1i0iBkLEIROuaQxd6OFwHLb9Iv/cYy9hLoe9+ykL/gMBDeZeIVn+pq3JooQtAj566ZWy8jNdNqg8sYkkbrOs43pYYebp/qhMNZcQCytAH8jy1Dy1l+G/P3R4MtNA/gnkax7xEumOedGhO/aG5TQed1p9Pl/GG+b3P8c/TNB1Tj9gfEbhp5mBdFynw5JfED0un2vhiodGV2boMe4v+PCWT+u5FG1wevJIoq93jxUJDhhCQVKviT2URIfEdMWdMHJd5qEok+SWdTHyKS145KqVcZXKRvC2QPMQqltrLTFLHpvASj0KIt32c1v3mNJ6OmJLahKmzJVSaPfUWHHT4vyORXBIoLbQZxR4tDn9Fx9dl9nDUWLy7jEB6U4bbhBXYX7WYyzL3cHkOKaowoQMMqrM1n2XY5s4mp8Wn1tikOSTuL1rv1aWBuNZEvLAaWnmVroBKkKtM7pInqGIVZe1lJvxUS8jLZF77+983Y880Ykp/nUwlx2keW0xIDdfLOB9PJ+gIfUgzjBP6yes4AKMEu6J1HEV96FVwWdJsGHjfD2atjeTbluE2YQV24+V+unfjnOexLg8MfLipKEsvh2qw5DudjoiTDNvcWRAtvpXST8gkPWKZGNZj7UQTEWWXZpnGWVqNPMWa0lNrOUGuMrlI3mUkV1WUtZeZ5Ie8QB6EdLne/24KKto5jcNFhuZkdTbv08AtmYp2u5MaIkZwUUxKq6W4kSEAPVh3u0x1D7ZeONxE+dsyPLMWeBwvWuK1MBRoSQwKPyLtWI/FHEUsVC0K1eJHspc7FJ9aru9CYtiI/iRuqTwVQiVCDTrGuuASE1CJcsXk1hcYVLGKVe1FHavCd/BQ4d76z46F2sQ0WV1hocneDs0EQ7gnR/y8ttDOABbQrsmKT9rRGownG+Yv0pVuywgmpBMB5LJ5g2VPFnpxoy2HAPy2rLO9S317uUPxg63odGYcEns7UcSmDzUbSdioSJ5aUck5VK4p/cQseWmhnsmqCLWHTJ4uFW5T0IBHguWNb6lXWFroK+KthZb9laU/HTFTXPWhy2LbsT6cZQXm1yy2WYAcyggmhKLtKiu24rNf7FZ0zy65zILP+LfNHYpHD3fxNU9InAv35CK6wuEvSgsthdOKtaEqV0xeWmisItQeMq0K37bIUX3je9kJYfbYxLmaTNBkVBWVNKWdwcjaGfO+YTPKZwvFosjnj2VO1cAt9V/rMkr1oL58iQx2afGLyZe24pml/zzt5vYUlmvStd4VHVNIvBTuyaVmzeIviloDKkvWneSFhS7ppMRQe8A/FB6TJTh+wa0tOiFg8GkLhWfqOsF7ohZTaCyZNLwkaaoIDPvSQrX7VI8UHKXrMoIJYBrol/q0VBta31JgWbNntsnxXm5P4blO+iUNQ3mZeCnck0vFOyan8gQjWrLuJC8sdEmnVZS1P7bQIKTW/Tv+wEqy+tUV5GpJWrQuUQPL0ASdzskvv2OhOlvCOt1mTardYpSHCZ8b+1lsy/DK75JgWCRbdGHyYFy0V6WzLM8qYADNbu5QfCoTg/0qcVH4Zh5qLxI2WkJApciKjx9enSUvLFSmIC4/SgwNDZlC4SFZkv433OAESc3s4UpZw1qM8nnhcMdix3sB3IF1qTFbrGM9XWrXFhhWz3Gc7Mv9ThmuHu3Zr8mn0xcLrSSPr8Eg8uL3UVuTOvSXtpe7LP6UljFqLSFxLnzH27S1UG+ooJLXhiaXV7e10FhFqD1kWhVubQ14JN298w0fley7fGN+xICQzEMFFsU4uVLM+KwXkG/5KwtVPxKcSoVT+1YG4BKd05f6bRlY9cvcFU4k/GwQUJdSKMvlMctsffkuGpKlj+TGTgMY0l7usnh4ZlXhmBP2MTEQ0Ri0rfyVQaIVNlKpO74MlSWrtCMmL/vQJd1G1JApQL7XIhXh3f/AHHRvE5Y9YhABIQkOXXLfw+yQsB208+mwUwfPwwwnuRlwwqmRaLgSL51deN2axh1IFGPmu1PGPM7ThK0C2rHD5LDpCq98xaXiiTwQCwtxRJkNW8kQVYVClLzYy10Wb/FojphhSAwBO633MxYaUIlyRShLC5VMRRVl7TFTCXkUUtv8Fxt7/UOy5qvsz9m+rI2tTkgjQocGkZ2boK1+JzEY+xzXndWtXY7ymAz0gqVfSDvjTXGhA7Ep6k4ZZ/ngOEypwJu4C8a2zG3ywJeqUWFLK7xNJ32rAuJnss0dirf42frJkPgmq/zh5lCI7CqRvwjtPRSoRLli8mChh1hFUXvMFAsvkolM+xt7JWZ7iUZcjSnWa9om/tybiMKHef4i6X45+CnesGHkE9f5lKb4wOekmz/O+UXKvtoeKqv67ZaplHanDLwq5EB9j+TajwrZd5Ks43UeoRWGxAgUUvzpMaQO5XyQM2Q6PM4V0pXJHmzs3a0S04XN5tSaLHS3Uf/1ZT/40iuVgL0o/7Us5nuMwKONvbs59jan/loLxSQ0WOTGYnch5Mu/ReAPG3tjcTbFiO9+r4Ue5tCJTntuzYgVQ3+PAGbz2ZGtG3tRhOwlTXtmwzbT9ebUr9mb6pPLvLd1tflXxbEVhyf9+2Y+J8epy9jJkmq15f45df66UstvFdb4h3tT4TKUyxe8cIzJlba/lptO0avCeYBLfS1/2ptqZlfkj5t/i4jVEu3X6ep3Nng7bj/cm3oIm1NhoOX21/++N9UstMgfNv/iZ7Hs7n21PvR3msw3t9o+dxSVfrQ3FeYiTjU1lC/bm6qlhb2t5ebfEEELLRT1Wx43FupfSM0afZNCso3CQn3P6T/vTdWiw97WcvPvKiIsTX6Ljn53O/2zR0Yh7zLZ2Zta9qE5na7lYejLJlxf3avtFSsx2fxVJEtVplRlRLH5N+RIv5MsKx9+AQJhHoqNvcueUzWHYGyyvcJH+SWdJImbTstMYVthTFZY6CpCC9DNvzGCFvoLLHLdxPXGXt8plmeb9jU32cZioUs6Nad/2JuqRYf8MHhs8LLNvyGCFrpW3y8Ibzb25olp+p+ODyz06/amqtmtNq0um39DBC30F1jkponrjb15z6numS0HbGRd+tBlD6vu6vqHvalqdiG/7EVMm39RTbGblRa6Ud8veIGPSmFj77LndLs3tbTQJZ3MTcOm02DWf9ybqmYX8uP7TN78GyJoob/AILdNXG3s/WhvammhX7U3NX0oKve2QkZ8k0p718sIWuhWfb/hTdzY+9He1GChX7I3Ffgms4ubVtFD+/9PKyJqtNCvkvlz5fwh1ePoxzEv8RNYb+wtt49+JGDYc/pf9qaGwh/W+jAiZH/RwJ7q7f9x/p3Ae+VsS/hDqr3o4j+5bsvjm/dHYHXSqzb4BS10T8z3Vw5b+ACBF7TQB5Ly9fsjsD0xdnV6rc2303m7q72x64NxF7jK82B3Ui3RssNXLpXDR/klhwuT/4fksjk47A1eaubTmyGgRgH/27Jj1rfZ+um1ek5tOm837o3dHIzr2IQ9t9tUZXRw/SULLXK4MCmm3BwchPaaeX87BJKFFifG5tNry62v6bzdsDd2ezCuo+N7c+U/Su2kKqN3LLTM4cIkCy03B8cjaL1q3t8NgWSh5jxLJ8baPDRsffXzdsu9sX6+7ObYvXAe7DbVKrr4bm12GHLAgyj/H9BiwuZgeKJ1BuLJ300zbI8hkCw0nBhrRhG2vsIcdL5Y7o3dHoybQPW9uQ+O4A3RO31oKDdYaNgcvNobTIW+KQLJQouOzM8qDVtf86m1xd5YRSQcjJswCntut6lC9I6FhhzBQvOmX9kcHHKmmnl7PwQeWmjc+urmYHbx6GBcgwc5S5zWR/DGaC9Y5dA/csqMnKNjh/aWFrps+pWEIWdZIZ/fCoGHFor9i36ubXEidLk3dnswriETTXCTKkYHOzMLDTlKC102/dJC38oIP2zMYwsNW1/dkGQK8Phg3FRTHoyFCmJ7fG6I9oL1LF2z0JCjtNBy0++VfeiHen2fyMcWGra+uiEVe2O9R8Mdq20zLsPFFzQPjuAto7Od6X+m0EJiucFCw+ZgF6ms+X30wpY4AvsWaqfpFgfbujmUe2PtvzvsHK4b9txuU4VobLCVQ/X8LF35z7IhByzUhJGYZdMvMrlItFDX5Xve9yzUTtOFCSwH27o5AIS8N3bnYNyEEZJ8dARvGY1ZwHKWrhlbKBdSLEf7ikj5QF0XiRb6npbprdqzUD+9ttj66uaAbHlv7M7BuF5qcdjsXqoi+lAedmvGFnLEo33LA3VdJFqoo/4b73/Y+rpzMK6jVOzN3UtVRMsRvZ4r3fdyeJI/iOTJeCcCRIAIEAEiQASIABEgAkSACBABIkAEiAARIAJEgAgQASJABIgAESACRIAIEAEiQASIABEgAkSACPxmBPL/5ar74f/qFp/SP0QA/yGAFxF4YQQOiWer9tv/am8A5X+AwG+e4LDtRIAIEAEiQASIABEgAkSACBABIkAEiAARIAJEgAgQASJABIgAESACRIAIEAEiQASIABEgAkSACLwJAueTHDfNiwh8LwLgNbNLKdGaCWSTrR+I2rfzcD0nec6j8ap9r3i/ubaojITE8TrPnZw8fzi65iaw3djVzyXTUg6d2svY5UQpbTU3kOvYJWZ5HuxZETj08zBNw5DYn2fjBaimYdULGpWRmmMUy+MVQaM1VoV5l4Jj6ItmewgsC3LVqr9pvNn2ZhnC5/EKe0TL1CqVGe0+GuFfO96KxvPx+QhEZVh94NqENZ4G4e/Acd563cZLmn5Jb7PI5SHcobrmaqQgS3wtT51Zo4oLmhNta6LVuY4SAn8erqP+bDUV/3wLAitlaJ3NaCPa0ZSi7/p5TgbaD9fCQnPI6ZUulfYx5cwlUUcf7uMgje/0B6nPzeAwKCr883wEVsrQCm9jq/d+WgY0cNglYa6Dk3nJCw/hnc3TSrNOOaq4ya/Rm9gZofgBjZKfZbJQWSBdlIS8iga9i5ArZWizjPY7tNA5ZQ6HG7S39KE5BPIby5AfQv6XD5zGVibfs042jawMMttDKz++Xob3BYaXb9DbCLhShrZrGPtz23W2ltc3zeiDWzNAUW6NhyWUiWgxH03TgaowusE8uw5kzjJ8rEA5yiJpwqT8JI6mfsPKU1VDqxN2pQyVfxzTutzXRonzUCIvsobIFlqEdFmFBOiJfM2vhVXyB4tD+WGh4Vgd5iakB7CVduhCe/E4YYE/DuaFqqRplYu5VoY0ByroMK4dh+RgQd8xp2ZOan5uoWUItIgyjRPbrtFC/UPRJE3NTfAHOIVhlFdMcI5j2zdzse5PwPD2LARcB4tWREE2pmNKaQP21dfnZ7PZZKEh1F/GoZ0uIxb6vuB4lszPLFdnK3ugyAwcM4BOIDk6Hs+UhGUbAnvKGL3vnK07hNZsne4uJ7PQGDoIu7Lk9A62UoQFkNRu+a0uv7az/m71kyeWVZW2rkKx95SRrbazvuLmXmqM9lhAYU6GedlZxv4ihLZjDdEf4EytEIZ+si9GEB+dZJd+oufi14YxQqzVXMSFo7jCxtYl8p4yjAse7Ujev+yEx7Cfr5OwK+drmXpW6g/1YeIo81B8P1MtToUl4quovGMfqsh84589ZbjHPo3u8FsvY52KVnQtojT1hLpjNfW739iEL6nqamt57FLAkggNl9W6Baz4ezLWNA/lYv5LUP9MIVEZ5gNtzHMEgnj9FL31we9ZaPpu719RP1P3K6VBm7HQwzJPZ5hwKV2ndli60GawL/VpLZ8Cr9SA95UlKCOtkeAy6qZpTp/ny7HOcNizUFnLT9hVqb1PhXDZQs++KWGc1+13k7ky0BofIXTDU7X7typUi4hcKsNX8Xd8XEE3Yiv4z1loWsvP90ph0IVeMZvBnq6lJWdxh6aL35Qcie+7B2WkavEudyCflQS6K1T82VxMRwSIABEgAkSACBABIkAEiAARIAJEgAgQASJABIgAESACRIAIEAEiQASIABEgAkSACBABIkAEiAARIAJEgAgQASJABIgAESACRIAIEAEiQASIABEgAkSACBABIkAEiAARIAJEgAgQASJABIgAESACRIAIEAEiQASIABEgAkSACBABIkAEiAAR+DIEnBzsywpkQUTgzwiAdc4vnDzdFM/I27fzcPXDe8+JKOTPZTLFlyGQyOVCefld1FaDo+ovrR+gfWq7oWvtMPGYLpRVQQAH8PuFxoE+1y5taD/jhH7h9JQLAbfVCpr1LiI6yXzZnvwuaAsELnrZse6JoNbIFUK6sqQqnnEqul5GaQLyJAvqSek3oVK6JxawloyJ367QHnQgiZEt1128C9qalX4BGaRDAdMNVAcSDSVvCelyQZU9JCbILlDLXpXe1Khrjs7PV1nDKha3u0inGC00vCu15WxJV6UdmhK95QzOYCF0sWGwYiykETqEz0pi5i3pNKRskM1gpLwexfvzEbBRO1poeFdqy4f+u6qrSzzdxrxYpnu+2M+pYUo/Vekvl9lmslBhUkw8ks+pnaU+RMAVUybI70ptOfEViBQxQ5sSI5b1oWW6sqCKnptMW94K0bPTf7UyOvQyvGdQKmrUW4i6B7y/A1P1oq3Mmpwf0P7J2ViXdJWi4pS7N5hn14H1zEi6j9KzTlgPnqSlZPz6Ae26NZZV+7ugrWyY+WGCIjtZ8YZ0ZUH1PIOO3ITFb06aBFeF+Sxa2Cu60F48TlgljsPCUFdP66qW1K2xbIS/C9rKhpkfxI+oTIkhXVlQPc9XdyT5V6PJTRb+fBjlFSvC49j2zfwOi8J69AJJ3RpLof1d0FY2zPwg31+0qwnpyoKqeU5k5YW8eFOElNQ8sXcr13wRx8fnIuDWWNayfqfayoaZHyTLzbsaCUStyptartvW1Vk286zLKJ9z19KoN5FzbY3SrM070dac/EuHEX7D3nlmsbIvXKGlVqvC5+KDfD8l5xt+bfpRSZoBdnLxP5nf3v5W1bq6hd1YI5qT3kVtmecTvkIZ/nRlqw2HvcZ0NcKB35m7QP0XdywGB3wyk1axD/0R3X5goegtrX9UbeGrtQqolPPoYSzqJPbqgVKrP9KY/1qptsIyX20tj00IedF+T91mmofm9/+1Nub7KwSyhXZdht7fBW3BKCVBUl1nfqbmIn7DkO6van+RxPqrM1maYRza6er+ULxsBt17IB4oWcunwItI/gvEcGtER5g/f/q7qC2s269TO1iHAkOdJwmJ9zCmqxC0wkJlN4x40TIY+F4vWw/kUn+oTwfsFf8+HQG3xj0LXWnrptvv0ufOBt0M/NcW2mj16WI/swJ8OSrM8Czu0HTxm5Ij8Tr3lbZOvn8ZEiJqCcV0ryM/JSECRIAIEAEiQASIABEgAkSACBABIkAEiAARIAJEgAgQASJABIgAESACRIAIEAEiQASIABEgAkSACBABIkAEiAARIAJEgAgQASJABIgAESACRIAIEAEiQASIABEgAkSACBABIkAEiAARIAJEgAgQASJABIgAESACRIAIEAEiUBkCznpSmdgUt3YETu1l7KZEGdFM3Xhp/eDJvp2Hqx8nek4npdfe3qrkPy9HLye5j9d5Xk4MxzmhJa/sEigV2UzpKnhBKkIBBHR6XK8aIk6X1svOte3nYZqEj04uBNxWK2pd7aI65XFuhx6SjQPB8wucjZ2f5aBsC7gi9TTtuym1UrIaSA+uDxwqrUfUz+MV9oh2qlXeJOqefsWtc9osePDpyQj00MRyYrtUBgZEDHCnhQpDrC9LkQP9ANoBZfSU4RB0LjiQGVemIMo5Kni4JAiUVOlodgr2CKWevSqrkp3dfyx+thU06x1E7C7S9wULbUYb0Y5ObNUPOLDeG7sE7olu6KrZu5L2yxPXcs+kZdpmH1Pu4yANSPzy8twMc5U/wFr0sCenjc3BQpXAEmn7KdFXXgdo0DMvAWfPmLRfKWeqnraaeyZT0gdn/kCrxR6ThQqV1MVJ+app2XsImrlArDndSg03ULVkCy0C3ofa1Ew63GrXEJmNFFOYHo1Nq3h7aGV06OVnuALqPbRfQytWwA9jf267zP7VDNCNW2gIgOoLfYzN2k5jK+urgoOohpZnGX3OjTac1hZ6lFnMBK4z5YkkW00G7fseVhYK4jkb+4XJCyObLG/dQkOgB7t8N48X6TpvyNIhYIuL75P9i2qaRnUiScM3Fnpo0TJ0ob14nLCsHIeFXemLqmcxHyOwsdChw7h2HHQFNOmQlyw0BA53GKQoTGaxWP+LPUPFVaoP1McgSryMWBKe130oWjUJ5dcVsx1jTax5UfixKbxo7MZCbcGKVUMPGmRdRZmFhgAGPXEbJmeVfwucCj7hF23urlhGqTfpYLGah6b0uoBMzLNpCblbEl9+PQIbC01Le9DJ97NZq1poCMjC1lz6GOB1OqCC5TXH14v55BIxwewP8LQdDmi31bUQegtjuSBB9u4na2G/+I2FJgV1cMKPM9ZMmIZhKnYOAZmbpnSDP0jx+e1+XS/+Vv2hnY0bMMrsYztgGiDTbXMRu6P4xRvzPuKtLLTzqSS8fxjJ8xUDYov6UVC9hP2U+l30oUuHWg9E7gLFj1JWfeL7lLk1PGjpwiczeWIf6oB8631loe6xh7ElExRrLCRKgTlZMtLJ6sLSHuuch8IobaEnjgs0SJZ72HaQV333ZKxpHprfF6jw8XkIZAs1Hyio4kUD8CUtXciehWJRJFaJ8Q/prqbiUqvPE/jrS5a1/IQtd2aTcCldp3ZY2t8MuqNEfBVt38wp8PVisMR9BLKFpg/0cBl10zSnz/OaZ89CodWx1XSYocGs4a6Bs0Y3W+zX88pvbS0/303Gm26/m/J8xScBMvLDvVbtt7NX1sBHsq0tNDk6ZQeaX3sWCkeTKtLSJRWn6ajnq+iOtXxheedTWgZKC87iDk0Xvyk5Ej97h4JyB/KRJGW6qOKPcjGOCBABIkAEiAARIAJEgAgQASJABIgAESACRIAIEAEiQASIABEgAkSACBABIkAEiAARIAJEgAgQASJABIgAESACRIAIEAEiQASIABEgAkSACBABIkAEiAARIAJEgAgQASJABIgAESACRIAIEAEiQASIABEgAkSACBABIkAEiAARIAJEoFoEnJen2gZQ8DoROLU47XyyQ32bKV0W7Nt5uPrpt+dEw1BnKyuVOhF5LdI/1lYZAwr6Qqs44/06z91yWPFSXA1PiSjSDgAH/6xdeg5zP+OIe2FMlAsBt9UamvUmMjqfujfnsbZCjFAkypVUJsSzuIwFzIuq5Q6bBBtNcx2VRAHUNCe99Bzqm0TdE8eSEUHX0qz3kDPRHi6NeaytGBNDIPZEj3MqGF6WEl//6ZIM8KK0Sd1C0wPRr8oQZcQgx0p/ga+vgYcSdiD0SBQgnuaxtmJMCIFuUIdBJXXzkqq59wsdlDD0zCV71KHTkNApgvHESCSradgbCCr2GS30sbZiTAw5TVg/KXdbZciAes8ktgfpL5fZZrJQ4akDS19lLXsPcTNbjTbnsbZiTAx1VesOLHSmSsxcepA+tzKpnhPzTitjfi/DewTqPZRfRSsi8I+1FWNiaBj7cwuK2krX8j59hmWewOspRLuzs5cdZY46ga3uJI4m8in9gE1HCz081laIienANyjThdHIE3+gEf9W5WQeCWnDCdaYSD4Tr2cLe0UX2ovHSTnpKv0Z/htEP5l7ZaGPtRVioCz1M5lW4XTqMBgeh7Qo/sn2/Ie6hdeznS4jaB/PB/9qBOJSK+o4CSnddbwnXs+w1P8PtTHLXyKwstDH2goxQjm7aBXTNnUeYnb6KTK7vxTx6cmN9HEKJNB5HqO161owcSPXuBp8OoRPrGBloYfH2ooxZSj7A+Zal0yYYPYg7hankl8y5Pt11p8g+eUdj2+9ry1UlwMPtBX1uISyMjv1eX+r/F9Ymbhz+ykt4tGH5vEAA4b4n8xvb3+/sFoW9TECWwvV9A+1hdnYwjwvnOsIdWlVUanL0Om59fe1uO/TPBRw4EOogMI+VE3ju/+sLPSxtkIMjNLY2FWr7rFHv2NbLL67Ef9W382X7/Jd/mqBs7suUPQ9/SbTPJSL+X+D+29zZws1d+ZjbYUYuA2TU0a02pg6+y50r38ryY+ll1XfNHXwmUEEtAVLQCzrW5enGXRHiYwXbd/MKeCxvD8bgWyhttx5rK0Qo2v5rFXoDtsrpzl9nn+2yF9evq36ZhsVUiBNR1GXDxcy2ufNXF8uAwt8hMDKQtNafk9bQY8x3eGOjzDYfFfjGK/AYNW3fIsPgcNZ3KHpQow/8v5zCAQFPQ7IJ8BFq/B0w1/DiwgQASJABIgAESACRIAIEAEiQASIABEgAkSACBABIkAEiAARIAJEgAgQASJABIgAESACRIAIEAEiQASIABEgAkSACBABIkAEiAARIAJEgAgQASJABIgAESACRIAIEAEiQASIABEgAkSACBABIkAEiAARIAJEgAgQASJABIgAEfhHBJzL5h+LYXYi8HcInNoLjujV009Bn+SXhvt2Hq5+CuVZj7L/u7KZ+l8QaEQz7eZc2nNi7lppq8FJ2pfWz3gNoULF/yLPD+VNjHrKYYbDwv2SlvYzDhAXPjq5EHBb1TD/PBuBpBln8sjVtclCo7ZAPqCXHUkcQqWKcynVPIBxFlwfzXWUI+pxqLj1SwAADG9JREFUUq9e6aD+m0TdEx5t1WQ81ehjERTUHVOvx32HnqHHce12invU1qyngCNSO5QyFFS8lF/L0yU191IYYD8bzd5VWZWMQeIoFMm8vhGBNiHeJQ1p1d1FOsqFZwAvTVtH7WKEzkVYMkJoT8Xf2I5/rKp3jp2SKapTji+hWZDSlayuGcxo/7E6Zv88AnPiRLqVJDM2kgcLNW350H9XdZWhXRV/XoyfTgk2UhMhPxRk8slCwdxdKZ3ZT6P7T/U7L+BUWqiUmPlBtPgUctIW2COma2UoazY//JNY3505c8xispLIIppEpXs4tDKn6WWwiaB8t5C/uz7vDzMKQRmurUzeqQ9laEfFuagaHpx+rs2NyjSQmM1gOJmwljyJo4lsNT+iT/R8K39TsFDXVlbfxkIPWxX/SEP+a6XTqE4kcUiYK+3k3PIosR27Dl1oLx4nZfxa2JX+a33M93cIHIe4LkLu0kKztlx9YGGHHkNoo+K/k+CnUwvbXjtdRlAlmlPjWizqD3AKwyivmLMba+L65/zT0r97/T3UosS/ZUNLC83aCjYZLXSj4rKwCp6NbW9Co1TYHQJd5dZNzLMbuCpoYb0i3oZx9o9ESysKC1209YGFJgrFrOKlpFqeMMHsD416KQ5g1V37Pc+6ciJ797erE33HEPxKSYLCQhdtzWmShp4GY2EM6RpiUfG3N+RrKnR/aOm515IxRsjwby6PtePja+pmKbsI4DP7ao1kyQoLXbTlfv2zjoUxlEp3Fe9W9rov3XPW2XwH7rTwjU3m5Tqysw/9bh0ejSN+W+1ioYW28KFaU5r3NIRWKt4W+Npv0id4/0y28ereU7eZ5qFczH+bOuewLO26DP1ioYW2MCOVBNgxIrcQWqn42xrwRRXJQm/Cvq20g2b9AaMZZEcJLlvLp8AX1c1iPkAAw3WXLpmMFh/jFwsttQVv4HVqh9ShlKGVij+o8zWjbC0/3026ss3yxkcIGe1Hc52+ZjPeTip85POrQ+P+aKEHLPxxYTuUXmUoqrhCpLCWX809cyPO4g5NF78pORKvesd2vEK0MvSBioscfCQCRIAIEAEiQASIABEgAkSACBABIkAEiAARIAJEgAgQASJABIgAESACRIAIEAEiQASIABEgAkSACBABIkAEiAARIAJEgAgQASJABIgAESACRIAIEAEiQASIABEgAkSACBABIkAEiAARIAJEgAgQASJABIgAESACRIAIEAEiQASIABGoGoEzKEN4EYFvR+DUXsZuSqwTIQAinnm4+um353SW/7cL+GsrbEQzbeADaaZ04S3o2PxCqIwBYg1Ofr+06cTbU9sNq4IqAlX4EnEpdyJOqy8CYC7HEffCmCgXAm6rFbWuZlGTMhLDgLUknx0O2wP5gF8IlTHKuKBxyse0V1A9wKBhYKNprqOQKISAsH8h6p54JVtjramnZbVLCj4PHEovZ9AXPQO4g056QVs4Blwv4/ooY8DEOrZIcVOmOhQEPQp/WJWztEsyQOWOCgHh85QmGbvEccNVV7sFvLr8bULc2btU3i5Q2Oirfp5FTSHmnuiDr8Zu3WrCGfSs9V3gjLJBXAjLQkAbLQ1SOsVmUBjqa2C9ErtB3RIBjbZkNvbVslWd9bEhxildJrHyLhEqBlMvS3jp58wZJQ8hALE7hUMXSBenjXzp1ryVcKOOYEITJGw16ZLnYtDHW2dXCjHeh+rUbEoMNm7yXlYdd8xRTFBMQfsQwOtW+tdefoYOQx2Nei8p24Jg/jS2mJeO80JI2ygv8AG9S4i56DzUmQYVkKlSX4yx7Ik1opcMAeGhAxIT1pInaRz5lH7E8jGw2TxMasfSB0x18zjazBJvurTUX8X0WOgj3cX72wmBrsqFEgxQnUjikDjFAJrfAg50ob14nJSTbuH/Erx4PR+B41B0oVDCRcwM2kqaOKUl0TrmDivGldm/xTPlvIPPF/pLaxDSx3a6jFdxaoSAVAOnMKC4YhFovJ7Fz/lLpWBh+wj0UItSU6do/6w3uWFePTrGoOO9NocevUqeDzQI1NnBGOnjBOJIoBACDtpNxpTEjVzC5fG8PwsBkHPOJRFirsdXDLgvUwCNtRj0OBrC2L8M7Tc361xMLQ+YYPbgex5U3hDQN2edi+s0G9PxWhr1BnKKjz13gav2qCte5qVmiUWsxqToA1YWp95ZW7MzsUhd0aP4Q/NVBjDyy3TbostEOTUfnoMAPqyvOsh+ShaLnlL7Rv3OIrWvYnLXCi+hLnNVwvB16jkyP6FUp+fuZEITAqkyfE2TJ/ahTwD/wyKPtioKadzyjjZgo1f0xXqMmdOUE5Z8zjOB7O4ORb58wD7qYiEkH21DwES/p24zzUPrnGu/vBb2BJzDFLPrBPqrWe05uQULm4sxWElJ94vxDyNjZ36mBj7SvXpe/Z0s3yfs1NIfXQio5M2QthvYWr7OvQevroNd+c7i+bRLhnZblTeDeF6wwDdbKz43xRgocmynaVZXIux5nqZ22OmTd2t+tZe2fE++shAQSX3cF8+9b9F7tRa8pzx5Nx0sFS1MfqOkoDQdLSw0uWH8a1M/DeIPhcsJF3auifLSx88K4cLy3Wcz+uVoCRzO4g5NF78pORI/eg/aCpKsYrA5L3uaELXrtQr5GSACRIAIEAEiQASIABEgAkSACBABIkAEiAARIAJEgAgQASJABIgAESACRIAIEAEiQASIABEgAkSACBABIkAEiAARIAJEgAgQASJABIgAESACRIAIEAEiQASIABEgAkSACBABIkAEiAARIAJEgAgQASJABIgAESACRIAIEAEiQAT+CwJOkvJf8jIPEfgUAqcWZ0lP6Uz/EEjZ47u+nYerHzF6rpSJ71PA/HiiU9sNXRvZFhrRlr8LmmlwkvalTceENlO6NPdeQT/euk8LIGx0ckKvGl0IpCLiu37GoeLCUScXAm6rKTFvX4dAAj7wdIV3QTM4C1wvO5I4n+AsFhsyfZ1831QSmgKuD5wjLUfUh0ASYPXuJsnviepMqXe/SdBfVw04PAC1kCrlo5TBejXirG85Khw9Q9TMrEeC4yx37TzA4IJjl3Eh715BFaF5ScamzDwhkBqxendVIh8jCDlu+aYqavmrizolOoWSdLtNiCtVfNCM0yBfLVdXEInsFfTqjV/kyzxlQvIVAinN+l3inBcCu2aYl1/3UiSfvgaBDlTAcqk1piLdWm8bbTnH9924BedEym4FbAtK5VVwy4w88hACSfj1u2ShYPM+gO+sghZWK+KUuDvcKqUhTtMpJCBRM07agh5Fug0Z5HyJsFdQPahgjmLCYlLTh0Bqw/pdK8NHL4PNtPDu1tPe+iQFYfdWaOkxo2Yyk6c+gIAVc1XQKBVZdwsq4l/1MbGbgUoePWIIJIlX745ilxPWl0oXSQab5+p16mYjlIvVoPtEPxE0Ey0UnMjgCwPHvLPQPSgoFvuaocn8TOKQOMHy1HtkgSTv+l2LpqML7cXjpCxgC+PSa7awZqnAFTgmMraiGcdBh6+gmWih6C9lrIcik3b2CyrKfN1HIUpsJ/CRiwMjBJLMm3fHSWjAruMdALR9E+knX7ehlUrWoBeIfUAPVSkZcNBMtFD/1Ad+T2/3tiCPefW78fBNmIRD0hBIku+9A0ctxo/ERqtwvXoz65XvtliZNOIGls60Qi01Ey3UW5vnqpozFuRpKrhjMtlj3i0OJNhoGUjCb9+dR3E0kdE7AfSMW+9UltnfJ7XAKIdi+bNoZnbHykLoLelhuPsFSWRdl/hD8xUC6W35DuOLuDIsS5kxl8CHf0VAV6JaSGlz+PRuH5yL4lUz7jUFpTLseEpWjD603y+oyP/ij+5H62RuEwJJ8L13+KYmsexDn6hcGJfZYvZ7orJjycAdNHNLTimjS/a8RwzsuwU9UfCvLhots1WffP0NARhshzn66p3Uf0/dZpqHxon8Vwv4a8vrzM/UXNRlpLo4hGVp0AzsUPSA/SNyu5pWLRQLqg5PWRBO2LelDQsBmcRgsFi9QwObIe1lsLV8sbGhuta/ssAwr3ma2sGMTXWBIbxL10YzWPNfJbVO1ppBPDRY9Is/NBb0yk3el80WhMnpFgJmoWl9X3jlfHQRz71v29svm2//BQFsOBN87eOnWig+/Pklhhi1hUU+rvSpNEXZdDQU9C8S/VReLAj9Ey5aXQaSRPHdWdyhS4w/8v71CAD4j7c+rDRTpg5Rfyzo62VniUSACBABIkAEiAARIAJEoGIE/h9uZL8ZmtwNLAAAAABJRU5ErkJggg==)"
      ],
      "metadata": {
        "id": "_dM2VKovrWMa"
      }
    },
    {
      "cell_type": "markdown",
      "source": [
        "A simple random sample of 50 adults womens is obtained, and each person's red blood cell count (in cells per microliter) is measured The sample mean is 4.63. \n",
        "The population standard deviation for red blood cell counts is 0.54.\n",
        "\n",
        "Construct the 95% confidence interval estimate for the mean red blood cell counts of adults. \n"
      ],
      "metadata": {
        "id": "_NWCecX6rutz"
      }
    },
    {
      "cell_type": "code",
      "source": [
        "import math"
      ],
      "metadata": {
        "id": "X1ukDvR0_dy6"
      },
      "execution_count": 5,
      "outputs": []
    },
    {
      "cell_type": "code",
      "source": [
        "significance_level=.95\n",
        "al= (1+significance_level)/2\n",
        "z_value = norm.ppf(al)\n",
        "z_value"
      ],
      "metadata": {
        "colab": {
          "base_uri": "https://localhost:8080/"
        },
        "id": "O-ISQEOvG-lg",
        "outputId": "b877b8e1-ccb7-4206-97ae-6ed3e7958d66"
      },
      "execution_count": 6,
      "outputs": [
        {
          "output_type": "execute_result",
          "data": {
            "text/plain": [
              "1.959963984540054"
            ]
          },
          "metadata": {},
          "execution_count": 6
        }
      ]
    },
    {
      "cell_type": "code",
      "source": [
        "n = 50\n",
        "mean = 4.63\n",
        "standard_deviation = 0.54\n",
        "z = z_value"
      ],
      "metadata": {
        "id": "DbQMDQKQCdv2"
      },
      "execution_count": 7,
      "outputs": []
    },
    {
      "cell_type": "code",
      "source": [
        "mean-z*(standard_deviation/math.sqrt(n)),mean+z*(standard_deviation/math.sqrt(n))"
      ],
      "metadata": {
        "colab": {
          "base_uri": "https://localhost:8080/"
        },
        "id": "3hZjQxDeCtAB",
        "outputId": "2d0de145-94fd-4746-cd52-36df5fb06283"
      },
      "execution_count": 8,
      "outputs": [
        {
          "output_type": "execute_result",
          "data": {
            "text/plain": [
              "(4.480322386970235, 4.779677613029765)"
            ]
          },
          "metadata": {},
          "execution_count": 8
        }
      ]
    },
    {
      "cell_type": "markdown",
      "source": [
        "p value method"
      ],
      "metadata": {
        "id": "iv5iGBApGqIk"
      }
    },
    {
      "cell_type": "markdown",
      "source": [
        "A sample of 40 new baseballs had a bounce height mean of 92.67 inches and a SD of 1.79 inches. \n",
        "Use a .05 sig. level to determine whether there is sufficient evidence to support the claim that the new balls have bounce heights with a mean different from 92.84 inches."
      ],
      "metadata": {
        "id": "JTg-nOY-sJ6c"
      }
    },
    {
      "cell_type": "code",
      "source": [
        "significance_level=0.5\n",
        "al= (1+significance_level)/2\n",
        "z_value = norm.ppf(al)\n",
        "z_value"
      ],
      "metadata": {
        "colab": {
          "base_uri": "https://localhost:8080/"
        },
        "id": "XkRseNW3JYvx",
        "outputId": "880ef306-5e02-483e-9bb2-82e4ff0f0528"
      },
      "execution_count": 9,
      "outputs": [
        {
          "output_type": "execute_result",
          "data": {
            "text/plain": [
              "0.6744897501960817"
            ]
          },
          "metadata": {},
          "execution_count": 9
        }
      ]
    },
    {
      "cell_type": "code",
      "source": [
        "n = 40\n",
        "mean1 = 92.67\n",
        "mean2 = 92.84\n",
        "standard_deviation = 1.79\n",
        "z = z_value"
      ],
      "metadata": {
        "id": "S5XpdGO_Go5l"
      },
      "execution_count": 10,
      "outputs": []
    },
    {
      "cell_type": "code",
      "source": [
        "abs_mean = abs(mean1-mean2)\n",
        "z_value = abs_mean/(standard_deviation/math.sqrt(n))\n",
        "print(f'z_value : {z_value}')"
      ],
      "metadata": {
        "colab": {
          "base_uri": "https://localhost:8080/"
        },
        "id": "Lu0-ho-3Dyra",
        "outputId": "8ee3e2e7-a188-4630-9a6b-7f5c1efc3f0d"
      },
      "execution_count": 11,
      "outputs": [
        {
          "output_type": "stream",
          "name": "stdout",
          "text": [
            "z_value : 0.6006560918755641\n"
          ]
        }
      ]
    },
    {
      "cell_type": "code",
      "source": [
        "p_value = norm.sf(abs(z_value)) \n",
        "\n",
        "print(f'actual p value : {p_value}')\n",
        "print(f'p_value for lower tail (AUC): {1 - p_value}')\n",
        "print(f'p_value for upper tail : {p_value}')\n",
        "print(f'p_value for two tail : {2*p_value}')"
      ],
      "metadata": {
        "colab": {
          "base_uri": "https://localhost:8080/"
        },
        "id": "fOes--RCJz7G",
        "outputId": "ab29461a-db4c-44c8-b27c-089320f67346"
      },
      "execution_count": 12,
      "outputs": [
        {
          "output_type": "stream",
          "name": "stdout",
          "text": [
            "actual p value : 0.2740345348370262\n",
            "p_value for lower tail (AUC): 0.7259654651629738\n",
            "p_value for upper tail : 0.2740345348370262\n",
            "p_value for two tail : 0.5480690696740524\n"
          ]
        }
      ]
    },
    {
      "cell_type": "markdown",
      "source": [
        "Decision on hypothesis testing"
      ],
      "metadata": {
        "id": "C8_xDSHZM5Mf"
      }
    },
    {
      "cell_type": "code",
      "source": [
        "value = 0.5480\n",
        "alpha = 0.05\n",
        "if value > alpha:\n",
        "    print ('Fail to reject null hypothesis')\n",
        "else:\n",
        "    print ('Reject null hypothesis')"
      ],
      "metadata": {
        "colab": {
          "base_uri": "https://localhost:8080/"
        },
        "id": "lJqdwZ1IMW5d",
        "outputId": "5938739f-a7f4-4903-d104-2e846926fd1c"
      },
      "execution_count": 13,
      "outputs": [
        {
          "output_type": "stream",
          "name": "stdout",
          "text": [
            "Fail to reject null hypothesis\n"
          ]
        }
      ]
    },
    {
      "cell_type": "markdown",
      "source": [
        "\n",
        "\n",
        "---\n",
        "\n"
      ],
      "metadata": {
        "id": "_JzOEA3lTiA-"
      }
    },
    {
      "cell_type": "markdown",
      "source": [
        "A = [1,2,5,8,4,9,10,1,3,5,7]\n",
        "\n",
        "B = [2,8,11,14,17,8,99,3,2,1,2]\n",
        "\n",
        "output = [1,8,5,14,4,8,10,3,3,1,7]"
      ],
      "metadata": {
        "id": "rUK-Yu0wTbn1"
      }
    },
    {
      "cell_type": "code",
      "source": [
        "A = [1,2,5,8,4,9,10,1,3,5,7]\n",
        "\n",
        "B = [2,8,11,14,17,8,99,3,2,1,2]"
      ],
      "metadata": {
        "id": "ahdER8N9T318"
      },
      "execution_count": 14,
      "outputs": []
    },
    {
      "cell_type": "code",
      "source": [
        "#method 1\n",
        "output = []\n",
        "for i in range(len(A)):\n",
        "  if i%2==0:\n",
        "    output.append(A[i])\n",
        "  else:\n",
        "    output.append(B[i])\n",
        "  \n",
        "output"
      ],
      "metadata": {
        "colab": {
          "base_uri": "https://localhost:8080/"
        },
        "id": "47PQvx8siefR",
        "outputId": "6b6ebab3-4924-4080-9633-64191e76e944"
      },
      "execution_count": 15,
      "outputs": [
        {
          "output_type": "execute_result",
          "data": {
            "text/plain": [
              "[1, 8, 5, 14, 4, 8, 10, 3, 3, 1, 7]"
            ]
          },
          "metadata": {},
          "execution_count": 15
        }
      ]
    },
    {
      "cell_type": "code",
      "source": [
        "#method 2\n",
        "a = {k:v for k,v in enumerate(A) if k %2==0}\n",
        "b = {k:v for k,v in enumerate(B) if k %2!=0}"
      ],
      "metadata": {
        "id": "SmPcpnBYKhbl"
      },
      "execution_count": 16,
      "outputs": []
    },
    {
      "cell_type": "code",
      "source": [
        "c = {**a,**b}\n",
        "sorted_data = sorted(c.items(), key = lambda kv: kv[0])"
      ],
      "metadata": {
        "id": "rpdusCnfM_N7"
      },
      "execution_count": 17,
      "outputs": []
    },
    {
      "cell_type": "code",
      "source": [
        "output = [x[1] for x in sorted_data]\n",
        "output"
      ],
      "metadata": {
        "colab": {
          "base_uri": "https://localhost:8080/"
        },
        "id": "z8XaTLKKTHK7",
        "outputId": "6dbddef1-41f2-4daf-cd9d-e4bf7b624782"
      },
      "execution_count": 18,
      "outputs": [
        {
          "output_type": "execute_result",
          "data": {
            "text/plain": [
              "[1, 8, 5, 14, 4, 8, 10, 3, 3, 1, 7]"
            ]
          },
          "metadata": {},
          "execution_count": 18
        }
      ]
    },
    {
      "cell_type": "code",
      "source": [
        "T=(1,2,3)\n",
        "T=[1,2,3]\n",
        "#this gives an error\n",
        "#T={1,2,3}\n",
        "T*2"
      ],
      "metadata": {
        "id": "KvLdm6kYMXF8",
        "colab": {
          "base_uri": "https://localhost:8080/"
        },
        "outputId": "1be82ada-709d-49b9-ed18-bd5d7196cf6e"
      },
      "execution_count": 19,
      "outputs": [
        {
          "output_type": "execute_result",
          "data": {
            "text/plain": [
              "[1, 2, 3, 1, 2, 3]"
            ]
          },
          "metadata": {},
          "execution_count": 19
        }
      ]
    },
    {
      "cell_type": "code",
      "source": [
        "word = 'learn'\n",
        "list(word)"
      ],
      "metadata": {
        "colab": {
          "base_uri": "https://localhost:8080/"
        },
        "id": "5dXJwjb9iqVz",
        "outputId": "d5b83625-e460-49cb-90fa-1479ae0fb236"
      },
      "execution_count": 20,
      "outputs": [
        {
          "output_type": "execute_result",
          "data": {
            "text/plain": [
              "['l', 'e', 'a', 'r', 'n']"
            ]
          },
          "metadata": {},
          "execution_count": 20
        }
      ]
    },
    {
      "cell_type": "code",
      "source": [
        "# or means if anyone is true it will give True\n",
        "# or follows addition rule\n",
        "False or False,False or True"
      ],
      "metadata": {
        "colab": {
          "base_uri": "https://localhost:8080/"
        },
        "id": "zMjHvZHgjahM",
        "outputId": "295ec2b0-ea01-40de-c958-ca722131a1fd"
      },
      "execution_count": 21,
      "outputs": [
        {
          "output_type": "execute_result",
          "data": {
            "text/plain": [
              "(False, True)"
            ]
          },
          "metadata": {},
          "execution_count": 21
        }
      ]
    },
    {
      "cell_type": "code",
      "source": [
        "# and means if anyone is False it will give False\n",
        "# and follows multiplication rule \n",
        "False and False,False and True"
      ],
      "metadata": {
        "colab": {
          "base_uri": "https://localhost:8080/"
        },
        "id": "WtvpLPhyjp88",
        "outputId": "8199587b-85fe-43bc-80b8-3add7e52b08c"
      },
      "execution_count": 22,
      "outputs": [
        {
          "output_type": "execute_result",
          "data": {
            "text/plain": [
              "(False, False)"
            ]
          },
          "metadata": {},
          "execution_count": 22
        }
      ]
    },
    {
      "cell_type": "code",
      "source": [
        "a = True \n",
        "b = False \n",
        "c = True \n",
        "\n",
        "if not a or b : \n",
        "    print (\"a\")\n",
        "elif not a or not b and c:\n",
        "    print (\"b\")\n",
        "elif not a or b or not b and a:\n",
        "    print (\"c\")\n",
        "else:\n",
        "    print(\"d\")"
      ],
      "metadata": {
        "colab": {
          "base_uri": "https://localhost:8080/"
        },
        "id": "EpAzUytqkCPu",
        "outputId": "162af15c-256e-4d52-931b-0f1c0dcdfbea"
      },
      "execution_count": 23,
      "outputs": [
        {
          "output_type": "stream",
          "name": "stdout",
          "text": [
            "b\n"
          ]
        }
      ]
    },
    {
      "cell_type": "code",
      "source": [
        "#this still holds true but as before condition got satisfied it broke the loop\n",
        "not a or b or not b and a"
      ],
      "metadata": {
        "colab": {
          "base_uri": "https://localhost:8080/"
        },
        "id": "AwefcDEmlZtn",
        "outputId": "c73ec931-9d11-49f2-9838-b989fea1009e"
      },
      "execution_count": 24,
      "outputs": [
        {
          "output_type": "execute_result",
          "data": {
            "text/plain": [
              "True"
            ]
          },
          "metadata": {},
          "execution_count": 24
        }
      ]
    },
    {
      "cell_type": "code",
      "source": [
        "import pandas as pd \n",
        "S1 = pd.Series([0, 2, 4, 6, 8, 10, 121])\n",
        "S2 = pd.Series([0, 3, 6, 9, 12, 15])\n",
        "\n",
        "S1[~S1.isin(S2)]"
      ],
      "metadata": {
        "colab": {
          "base_uri": "https://localhost:8080/"
        },
        "id": "w17cKqbfl05T",
        "outputId": "1e6be5b2-f9d0-4cbc-c723-67ff36400685"
      },
      "execution_count": 25,
      "outputs": [
        {
          "output_type": "execute_result",
          "data": {
            "text/plain": [
              "1      2\n",
              "2      4\n",
              "4      8\n",
              "5     10\n",
              "6    121\n",
              "dtype: int64"
            ]
          },
          "metadata": {},
          "execution_count": 25
        }
      ]
    },
    {
      "cell_type": "code",
      "source": [
        "def addn(*args):\n",
        "  return (sum(args))\n",
        "\n",
        "print(addn(1,2,3,4))\n",
        "print(addn(5,6))"
      ],
      "metadata": {
        "colab": {
          "base_uri": "https://localhost:8080/"
        },
        "id": "LOr_mbVaJAEO",
        "outputId": "65fc286b-b2fa-4431-9502-e959479efe8c"
      },
      "execution_count": 26,
      "outputs": [
        {
          "output_type": "stream",
          "name": "stdout",
          "text": [
            "10\n",
            "11\n"
          ]
        }
      ]
    },
    {
      "cell_type": "code",
      "source": [
        "list_1 = [1,2,3]\n",
        "list_2 = [4,5,6]\n",
        "\n",
        "import numpy as np\n",
        "np.array(list_1) + np.array(list_2)\n",
        "\n",
        "list_1 + list_2"
      ],
      "metadata": {
        "colab": {
          "base_uri": "https://localhost:8080/"
        },
        "id": "wDoIZksQJzC8",
        "outputId": "045f5eba-4c59-4420-e13a-9006dad80ec9"
      },
      "execution_count": 27,
      "outputs": [
        {
          "output_type": "execute_result",
          "data": {
            "text/plain": [
              "[1, 2, 3, 4, 5, 6]"
            ]
          },
          "metadata": {},
          "execution_count": 27
        }
      ]
    },
    {
      "cell_type": "code",
      "source": [
        "import pandas as pd \n",
        "s1 = pd.Series([0,2,4,6,8,10,12])\n",
        "s2 = pd.Series([0,3,6,9,12,15])\n",
        "\n",
        "print(s1[s1.isin(s2)].index)\n",
        "print(s2[s2.isin(s1)].index)\n",
        "print(s1[s1.isin(s2)].index == s2[s2.isin(s1)].index)"
      ],
      "metadata": {
        "colab": {
          "base_uri": "https://localhost:8080/"
        },
        "id": "0yrUTRcvKfvO",
        "outputId": "584130a8-bfb5-4740-db1d-c3a736a96c07"
      },
      "execution_count": 28,
      "outputs": [
        {
          "output_type": "stream",
          "name": "stdout",
          "text": [
            "Int64Index([0, 3, 6], dtype='int64')\n",
            "Int64Index([0, 2, 4], dtype='int64')\n",
            "[ True False False]\n"
          ]
        }
      ]
    },
    {
      "cell_type": "code",
      "source": [
        "s = \"Naian\"\n",
        "# Check if the given string is a palindrome or not? Naian, Madam\n",
        "s = s.lower()\n",
        "s == s[::-1]"
      ],
      "metadata": {
        "colab": {
          "base_uri": "https://localhost:8080/"
        },
        "id": "oXJ15tvXpla_",
        "outputId": "36bbf7b5-41d2-4509-e85b-f198d9688707"
      },
      "execution_count": 29,
      "outputs": [
        {
          "output_type": "execute_result",
          "data": {
            "text/plain": [
              "True"
            ]
          },
          "metadata": {},
          "execution_count": 29
        }
      ]
    },
    {
      "cell_type": "code",
      "source": [
        "l = \"I love Python\"\n",
        "# Return the reverse of the the given string: Python love I\n",
        "\n",
        "a = l.split(\" \")\n",
        "a"
      ],
      "metadata": {
        "colab": {
          "base_uri": "https://localhost:8080/"
        },
        "id": "B97dM4xVpoE7",
        "outputId": "bcc177aa-b94b-42cb-a74f-1cecc53169e0"
      },
      "execution_count": 30,
      "outputs": [
        {
          "output_type": "execute_result",
          "data": {
            "text/plain": [
              "['I', 'love', 'Python']"
            ]
          },
          "metadata": {},
          "execution_count": 30
        }
      ]
    },
    {
      "cell_type": "code",
      "source": [
        "a[::-1]"
      ],
      "metadata": {
        "colab": {
          "base_uri": "https://localhost:8080/"
        },
        "id": "g76_fIQgpn-j",
        "outputId": "1283583c-e266-4594-93f7-27339eae8eb3"
      },
      "execution_count": 31,
      "outputs": [
        {
          "output_type": "execute_result",
          "data": {
            "text/plain": [
              "['Python', 'love', 'I']"
            ]
          },
          "metadata": {},
          "execution_count": 31
        }
      ]
    },
    {
      "cell_type": "code",
      "source": [
        "\" \".join(a[::-1])"
      ],
      "metadata": {
        "colab": {
          "base_uri": "https://localhost:8080/",
          "height": 35
        },
        "id": "OO961rSvpv_z",
        "outputId": "475df906-846d-4f87-97c2-89a4fb105bd6"
      },
      "execution_count": 32,
      "outputs": [
        {
          "output_type": "execute_result",
          "data": {
            "text/plain": [
              "'Python love I'"
            ],
            "application/vnd.google.colaboratory.intrinsic+json": {
              "type": "string"
            }
          },
          "metadata": {},
          "execution_count": 32
        }
      ]
    },
    {
      "cell_type": "code",
      "source": [
        "l = ['A', 'B', 'C', 'D', 'E']\n",
        "\n",
        "# Given the list, find the elements that are at even index position\n",
        "o = []\n",
        "for i in range(len(l)):\n",
        "    if i%2==0:\n",
        "        o.append(l[i])\n",
        "o"
      ],
      "metadata": {
        "colab": {
          "base_uri": "https://localhost:8080/"
        },
        "id": "4BFm4fJ1pv9l",
        "outputId": "4061acdc-341a-4514-f42b-af13b889b96c"
      },
      "execution_count": 33,
      "outputs": [
        {
          "output_type": "execute_result",
          "data": {
            "text/plain": [
              "['A', 'C', 'E']"
            ]
          },
          "metadata": {},
          "execution_count": 33
        }
      ]
    },
    {
      "cell_type": "code",
      "source": [
        "# enumerate()\n",
        "list(enumerate(l))"
      ],
      "metadata": {
        "colab": {
          "base_uri": "https://localhost:8080/"
        },
        "id": "6F2fhy0tpv7N",
        "outputId": "b69fa1b7-fcd8-4681-f4ea-28a2a972253e"
      },
      "execution_count": 34,
      "outputs": [
        {
          "output_type": "execute_result",
          "data": {
            "text/plain": [
              "[(0, 'A'), (1, 'B'), (2, 'C'), (3, 'D'), (4, 'E')]"
            ]
          },
          "metadata": {},
          "execution_count": 34
        }
      ]
    },
    {
      "cell_type": "code",
      "source": [
        "for i,j in enumerate(l):\n",
        "    if i%2==0:\n",
        "        print(j)"
      ],
      "metadata": {
        "colab": {
          "base_uri": "https://localhost:8080/"
        },
        "id": "a-_PTUfIpv46",
        "outputId": "8cbd7a2d-904d-4a2e-b25d-adc6ee524cab"
      },
      "execution_count": 35,
      "outputs": [
        {
          "output_type": "stream",
          "name": "stdout",
          "text": [
            "A\n",
            "C\n",
            "E\n"
          ]
        }
      ]
    },
    {
      "cell_type": "code",
      "source": [
        "# ZIP\n",
        "\n",
        "l1 = ['a', 'b', 'c', 'd']\n",
        "l2 = [1,2,2,4]\n",
        "\n",
        "# You are given with two list, l1 is having name of students\n",
        "# while l2 is having their rank in the class.\n",
        "\n",
        "# Find those students having the second lowest rank\n",
        "\n",
        "# Step1: Find the second lowest grade\n",
        "s = sorted(list(set(l2)))[1]\n",
        "\n",
        "# Find the student name with the second lowest garde\n",
        "for i,j in zip(l1, l2):\n",
        "    if j == s:\n",
        "        print(i)"
      ],
      "metadata": {
        "colab": {
          "base_uri": "https://localhost:8080/"
        },
        "id": "QxzRhAP2pvbT",
        "outputId": "7545a47b-d234-43c9-c532-6f873517bb2d"
      },
      "execution_count": 36,
      "outputs": [
        {
          "output_type": "stream",
          "name": "stdout",
          "text": [
            "b\n",
            "c\n"
          ]
        }
      ]
    },
    {
      "cell_type": "code",
      "source": [
        "l1 = ['a', 'b', 'c', 'd']\n",
        "l2 = ['d', 'e', 'g', 'c']\n",
        "\n",
        "# Find those elements which are present in both the lists\n",
        "\n",
        "\n",
        "list(set(l1).intersection(set(l2)))"
      ],
      "metadata": {
        "colab": {
          "base_uri": "https://localhost:8080/"
        },
        "id": "GMT217y6qDol",
        "outputId": "8ddd90db-bf02-4d7e-8223-4cfb17219b39"
      },
      "execution_count": 37,
      "outputs": [
        {
          "output_type": "execute_result",
          "data": {
            "text/plain": [
              "['c', 'd']"
            ]
          },
          "metadata": {},
          "execution_count": 37
        }
      ]
    },
    {
      "cell_type": "code",
      "source": [
        "import numpy as np\n",
        "a = np.arange(1, 10)"
      ],
      "metadata": {
        "id": "Q5RRrZPKqDlM"
      },
      "execution_count": 38,
      "outputs": []
    },
    {
      "cell_type": "code",
      "source": [
        "a.shape"
      ],
      "metadata": {
        "colab": {
          "base_uri": "https://localhost:8080/"
        },
        "id": "3-1dsSgWqDfa",
        "outputId": "1f2efa30-0084-4bef-bf40-21ab5cca414c"
      },
      "execution_count": 39,
      "outputs": [
        {
          "output_type": "execute_result",
          "data": {
            "text/plain": [
              "(9,)"
            ]
          },
          "metadata": {},
          "execution_count": 39
        }
      ]
    },
    {
      "cell_type": "code",
      "execution_count": 40,
      "metadata": {
        "id": "gZaox2GNpdX0",
        "colab": {
          "base_uri": "https://localhost:8080/"
        },
        "outputId": "8fac8854-2269-4b98-8d70-53bd721f7900"
      },
      "outputs": [
        {
          "output_type": "execute_result",
          "data": {
            "text/plain": [
              "array([[1, 2, 3],\n",
              "       [4, 5, 6],\n",
              "       [7, 8, 9]])"
            ]
          },
          "metadata": {},
          "execution_count": 40
        }
      ],
      "source": [
        "b = a.reshape(3,3)\n",
        "b"
      ]
    },
    {
      "cell_type": "code",
      "execution_count": 41,
      "metadata": {
        "id": "gc4Rlv2ypdX0",
        "outputId": "d45685bf-ddf1-456a-e97e-36d0bc7f2985",
        "colab": {
          "base_uri": "https://localhost:8080/"
        }
      },
      "outputs": [
        {
          "output_type": "execute_result",
          "data": {
            "text/plain": [
              "array([[1, 4, 7],\n",
              "       [2, 5, 8],\n",
              "       [3, 6, 9]])"
            ]
          },
          "metadata": {},
          "execution_count": 41
        }
      ],
      "source": [
        "# Rows to column -- columns to row\n",
        "b.T"
      ]
    },
    {
      "cell_type": "code",
      "execution_count": 42,
      "metadata": {
        "id": "liEKGjTjpdX0",
        "outputId": "7703675a-c67c-46ae-d46a-770935bc3fde",
        "colab": {
          "base_uri": "https://localhost:8080/"
        }
      },
      "outputs": [
        {
          "output_type": "execute_result",
          "data": {
            "text/plain": [
              "array([ 1.        ,  1.09090909,  1.18181818,  1.27272727,  1.36363636,\n",
              "        1.45454545,  1.54545455,  1.63636364,  1.72727273,  1.81818182,\n",
              "        1.90909091,  2.        ,  2.09090909,  2.18181818,  2.27272727,\n",
              "        2.36363636,  2.45454545,  2.54545455,  2.63636364,  2.72727273,\n",
              "        2.81818182,  2.90909091,  3.        ,  3.09090909,  3.18181818,\n",
              "        3.27272727,  3.36363636,  3.45454545,  3.54545455,  3.63636364,\n",
              "        3.72727273,  3.81818182,  3.90909091,  4.        ,  4.09090909,\n",
              "        4.18181818,  4.27272727,  4.36363636,  4.45454545,  4.54545455,\n",
              "        4.63636364,  4.72727273,  4.81818182,  4.90909091,  5.        ,\n",
              "        5.09090909,  5.18181818,  5.27272727,  5.36363636,  5.45454545,\n",
              "        5.54545455,  5.63636364,  5.72727273,  5.81818182,  5.90909091,\n",
              "        6.        ,  6.09090909,  6.18181818,  6.27272727,  6.36363636,\n",
              "        6.45454545,  6.54545455,  6.63636364,  6.72727273,  6.81818182,\n",
              "        6.90909091,  7.        ,  7.09090909,  7.18181818,  7.27272727,\n",
              "        7.36363636,  7.45454545,  7.54545455,  7.63636364,  7.72727273,\n",
              "        7.81818182,  7.90909091,  8.        ,  8.09090909,  8.18181818,\n",
              "        8.27272727,  8.36363636,  8.45454545,  8.54545455,  8.63636364,\n",
              "        8.72727273,  8.81818182,  8.90909091,  9.        ,  9.09090909,\n",
              "        9.18181818,  9.27272727,  9.36363636,  9.45454545,  9.54545455,\n",
              "        9.63636364,  9.72727273,  9.81818182,  9.90909091, 10.        ])"
            ]
          },
          "metadata": {},
          "execution_count": 42
        }
      ],
      "source": [
        "# linspace(start, end, number of elements between start and end)\n",
        "np.linspace(1, 10,100)"
      ]
    },
    {
      "cell_type": "code",
      "source": [
        "import numpy as np\n",
        "n=5\n",
        "a = np.zeros((n,n),dtype=int)\n",
        "np.fill_diagonal(a,1)\n",
        "np.fill_diagonal(np.fliplr(a),1)\n",
        "print(a)"
      ],
      "metadata": {
        "colab": {
          "base_uri": "https://localhost:8080/"
        },
        "id": "hmyk2Ghc6yRB",
        "outputId": "83a0e741-cdfc-4938-ea14-21f095bf1d75"
      },
      "execution_count": 43,
      "outputs": [
        {
          "output_type": "stream",
          "name": "stdout",
          "text": [
            "[[1 0 0 0 1]\n",
            " [0 1 0 1 0]\n",
            " [0 0 1 0 0]\n",
            " [0 1 0 1 0]\n",
            " [1 0 0 0 1]]\n"
          ]
        }
      ]
    },
    {
      "cell_type": "code",
      "execution_count": 44,
      "metadata": {
        "id": "XqJ7BJdSpdX0"
      },
      "outputs": [],
      "source": [
        "import pandas as pd"
      ]
    },
    {
      "cell_type": "code",
      "execution_count": 45,
      "metadata": {
        "id": "z5Y5vUelpdX1"
      },
      "outputs": [],
      "source": [
        "df_1 = pd.DataFrame({\"Name\": [\"Sumit\", \"Rajat\", \"Shukla\", \"Ruchi\"], \"Age\": [18,22,25,28], \"Edu\":[\"B.Tech\", \"B.Tech\", \"Mbbs\", \"MBA\"], \"Dept\":[\"HR\", \"TECH\", \"DATA\", \"IT\"]})\n",
        "df_2 = pd.DataFrame({\"Name\": [\"Ajay\", \"Atul\", \"Sanjay\"], \"Age\": [18,22,25], \"Edu\":[\"B.Tech\", \"B.Tech\", \"Mbbs\"]})"
      ]
    },
    {
      "cell_type": "code",
      "execution_count": 46,
      "metadata": {
        "id": "E8I4IhYwpdX1",
        "outputId": "6947900c-4dc4-472a-8c02-d91a978e547e",
        "colab": {
          "base_uri": "https://localhost:8080/",
          "height": 175
        }
      },
      "outputs": [
        {
          "output_type": "execute_result",
          "data": {
            "text/plain": [
              "     Name  Age     Edu  Dept\n",
              "0   Sumit   18  B.Tech    HR\n",
              "1   Rajat   22  B.Tech  TECH\n",
              "2  Shukla   25    Mbbs  DATA\n",
              "3   Ruchi   28     MBA    IT"
            ],
            "text/html": [
              "\n",
              "  <div id=\"df-8e1251e1-37f7-4d06-a687-e1f69785dbb8\">\n",
              "    <div class=\"colab-df-container\">\n",
              "      <div>\n",
              "<style scoped>\n",
              "    .dataframe tbody tr th:only-of-type {\n",
              "        vertical-align: middle;\n",
              "    }\n",
              "\n",
              "    .dataframe tbody tr th {\n",
              "        vertical-align: top;\n",
              "    }\n",
              "\n",
              "    .dataframe thead th {\n",
              "        text-align: right;\n",
              "    }\n",
              "</style>\n",
              "<table border=\"1\" class=\"dataframe\">\n",
              "  <thead>\n",
              "    <tr style=\"text-align: right;\">\n",
              "      <th></th>\n",
              "      <th>Name</th>\n",
              "      <th>Age</th>\n",
              "      <th>Edu</th>\n",
              "      <th>Dept</th>\n",
              "    </tr>\n",
              "  </thead>\n",
              "  <tbody>\n",
              "    <tr>\n",
              "      <th>0</th>\n",
              "      <td>Sumit</td>\n",
              "      <td>18</td>\n",
              "      <td>B.Tech</td>\n",
              "      <td>HR</td>\n",
              "    </tr>\n",
              "    <tr>\n",
              "      <th>1</th>\n",
              "      <td>Rajat</td>\n",
              "      <td>22</td>\n",
              "      <td>B.Tech</td>\n",
              "      <td>TECH</td>\n",
              "    </tr>\n",
              "    <tr>\n",
              "      <th>2</th>\n",
              "      <td>Shukla</td>\n",
              "      <td>25</td>\n",
              "      <td>Mbbs</td>\n",
              "      <td>DATA</td>\n",
              "    </tr>\n",
              "    <tr>\n",
              "      <th>3</th>\n",
              "      <td>Ruchi</td>\n",
              "      <td>28</td>\n",
              "      <td>MBA</td>\n",
              "      <td>IT</td>\n",
              "    </tr>\n",
              "  </tbody>\n",
              "</table>\n",
              "</div>\n",
              "      <button class=\"colab-df-convert\" onclick=\"convertToInteractive('df-8e1251e1-37f7-4d06-a687-e1f69785dbb8')\"\n",
              "              title=\"Convert this dataframe to an interactive table.\"\n",
              "              style=\"display:none;\">\n",
              "        \n",
              "  <svg xmlns=\"http://www.w3.org/2000/svg\" height=\"24px\"viewBox=\"0 0 24 24\"\n",
              "       width=\"24px\">\n",
              "    <path d=\"M0 0h24v24H0V0z\" fill=\"none\"/>\n",
              "    <path d=\"M18.56 5.44l.94 2.06.94-2.06 2.06-.94-2.06-.94-.94-2.06-.94 2.06-2.06.94zm-11 1L8.5 8.5l.94-2.06 2.06-.94-2.06-.94L8.5 2.5l-.94 2.06-2.06.94zm10 10l.94 2.06.94-2.06 2.06-.94-2.06-.94-.94-2.06-.94 2.06-2.06.94z\"/><path d=\"M17.41 7.96l-1.37-1.37c-.4-.4-.92-.59-1.43-.59-.52 0-1.04.2-1.43.59L10.3 9.45l-7.72 7.72c-.78.78-.78 2.05 0 2.83L4 21.41c.39.39.9.59 1.41.59.51 0 1.02-.2 1.41-.59l7.78-7.78 2.81-2.81c.8-.78.8-2.07 0-2.86zM5.41 20L4 18.59l7.72-7.72 1.47 1.35L5.41 20z\"/>\n",
              "  </svg>\n",
              "      </button>\n",
              "      \n",
              "  <style>\n",
              "    .colab-df-container {\n",
              "      display:flex;\n",
              "      flex-wrap:wrap;\n",
              "      gap: 12px;\n",
              "    }\n",
              "\n",
              "    .colab-df-convert {\n",
              "      background-color: #E8F0FE;\n",
              "      border: none;\n",
              "      border-radius: 50%;\n",
              "      cursor: pointer;\n",
              "      display: none;\n",
              "      fill: #1967D2;\n",
              "      height: 32px;\n",
              "      padding: 0 0 0 0;\n",
              "      width: 32px;\n",
              "    }\n",
              "\n",
              "    .colab-df-convert:hover {\n",
              "      background-color: #E2EBFA;\n",
              "      box-shadow: 0px 1px 2px rgba(60, 64, 67, 0.3), 0px 1px 3px 1px rgba(60, 64, 67, 0.15);\n",
              "      fill: #174EA6;\n",
              "    }\n",
              "\n",
              "    [theme=dark] .colab-df-convert {\n",
              "      background-color: #3B4455;\n",
              "      fill: #D2E3FC;\n",
              "    }\n",
              "\n",
              "    [theme=dark] .colab-df-convert:hover {\n",
              "      background-color: #434B5C;\n",
              "      box-shadow: 0px 1px 3px 1px rgba(0, 0, 0, 0.15);\n",
              "      filter: drop-shadow(0px 1px 2px rgba(0, 0, 0, 0.3));\n",
              "      fill: #FFFFFF;\n",
              "    }\n",
              "  </style>\n",
              "\n",
              "      <script>\n",
              "        const buttonEl =\n",
              "          document.querySelector('#df-8e1251e1-37f7-4d06-a687-e1f69785dbb8 button.colab-df-convert');\n",
              "        buttonEl.style.display =\n",
              "          google.colab.kernel.accessAllowed ? 'block' : 'none';\n",
              "\n",
              "        async function convertToInteractive(key) {\n",
              "          const element = document.querySelector('#df-8e1251e1-37f7-4d06-a687-e1f69785dbb8');\n",
              "          const dataTable =\n",
              "            await google.colab.kernel.invokeFunction('convertToInteractive',\n",
              "                                                     [key], {});\n",
              "          if (!dataTable) return;\n",
              "\n",
              "          const docLinkHtml = 'Like what you see? Visit the ' +\n",
              "            '<a target=\"_blank\" href=https://colab.research.google.com/notebooks/data_table.ipynb>data table notebook</a>'\n",
              "            + ' to learn more about interactive tables.';\n",
              "          element.innerHTML = '';\n",
              "          dataTable['output_type'] = 'display_data';\n",
              "          await google.colab.output.renderOutput(dataTable, element);\n",
              "          const docLink = document.createElement('div');\n",
              "          docLink.innerHTML = docLinkHtml;\n",
              "          element.appendChild(docLink);\n",
              "        }\n",
              "      </script>\n",
              "    </div>\n",
              "  </div>\n",
              "  "
            ]
          },
          "metadata": {},
          "execution_count": 46
        }
      ],
      "source": [
        "df_1.head()"
      ]
    },
    {
      "cell_type": "code",
      "execution_count": 47,
      "metadata": {
        "id": "Ig-WpVF7pdX1",
        "outputId": "37fce02f-733a-4fc0-d348-af9c1cee18a0",
        "colab": {
          "base_uri": "https://localhost:8080/",
          "height": 143
        }
      },
      "outputs": [
        {
          "output_type": "execute_result",
          "data": {
            "text/plain": [
              "     Name  Age     Edu\n",
              "0    Ajay   18  B.Tech\n",
              "1    Atul   22  B.Tech\n",
              "2  Sanjay   25    Mbbs"
            ],
            "text/html": [
              "\n",
              "  <div id=\"df-0dc56570-5681-4d4b-935b-e379747e9c73\">\n",
              "    <div class=\"colab-df-container\">\n",
              "      <div>\n",
              "<style scoped>\n",
              "    .dataframe tbody tr th:only-of-type {\n",
              "        vertical-align: middle;\n",
              "    }\n",
              "\n",
              "    .dataframe tbody tr th {\n",
              "        vertical-align: top;\n",
              "    }\n",
              "\n",
              "    .dataframe thead th {\n",
              "        text-align: right;\n",
              "    }\n",
              "</style>\n",
              "<table border=\"1\" class=\"dataframe\">\n",
              "  <thead>\n",
              "    <tr style=\"text-align: right;\">\n",
              "      <th></th>\n",
              "      <th>Name</th>\n",
              "      <th>Age</th>\n",
              "      <th>Edu</th>\n",
              "    </tr>\n",
              "  </thead>\n",
              "  <tbody>\n",
              "    <tr>\n",
              "      <th>0</th>\n",
              "      <td>Ajay</td>\n",
              "      <td>18</td>\n",
              "      <td>B.Tech</td>\n",
              "    </tr>\n",
              "    <tr>\n",
              "      <th>1</th>\n",
              "      <td>Atul</td>\n",
              "      <td>22</td>\n",
              "      <td>B.Tech</td>\n",
              "    </tr>\n",
              "    <tr>\n",
              "      <th>2</th>\n",
              "      <td>Sanjay</td>\n",
              "      <td>25</td>\n",
              "      <td>Mbbs</td>\n",
              "    </tr>\n",
              "  </tbody>\n",
              "</table>\n",
              "</div>\n",
              "      <button class=\"colab-df-convert\" onclick=\"convertToInteractive('df-0dc56570-5681-4d4b-935b-e379747e9c73')\"\n",
              "              title=\"Convert this dataframe to an interactive table.\"\n",
              "              style=\"display:none;\">\n",
              "        \n",
              "  <svg xmlns=\"http://www.w3.org/2000/svg\" height=\"24px\"viewBox=\"0 0 24 24\"\n",
              "       width=\"24px\">\n",
              "    <path d=\"M0 0h24v24H0V0z\" fill=\"none\"/>\n",
              "    <path d=\"M18.56 5.44l.94 2.06.94-2.06 2.06-.94-2.06-.94-.94-2.06-.94 2.06-2.06.94zm-11 1L8.5 8.5l.94-2.06 2.06-.94-2.06-.94L8.5 2.5l-.94 2.06-2.06.94zm10 10l.94 2.06.94-2.06 2.06-.94-2.06-.94-.94-2.06-.94 2.06-2.06.94z\"/><path d=\"M17.41 7.96l-1.37-1.37c-.4-.4-.92-.59-1.43-.59-.52 0-1.04.2-1.43.59L10.3 9.45l-7.72 7.72c-.78.78-.78 2.05 0 2.83L4 21.41c.39.39.9.59 1.41.59.51 0 1.02-.2 1.41-.59l7.78-7.78 2.81-2.81c.8-.78.8-2.07 0-2.86zM5.41 20L4 18.59l7.72-7.72 1.47 1.35L5.41 20z\"/>\n",
              "  </svg>\n",
              "      </button>\n",
              "      \n",
              "  <style>\n",
              "    .colab-df-container {\n",
              "      display:flex;\n",
              "      flex-wrap:wrap;\n",
              "      gap: 12px;\n",
              "    }\n",
              "\n",
              "    .colab-df-convert {\n",
              "      background-color: #E8F0FE;\n",
              "      border: none;\n",
              "      border-radius: 50%;\n",
              "      cursor: pointer;\n",
              "      display: none;\n",
              "      fill: #1967D2;\n",
              "      height: 32px;\n",
              "      padding: 0 0 0 0;\n",
              "      width: 32px;\n",
              "    }\n",
              "\n",
              "    .colab-df-convert:hover {\n",
              "      background-color: #E2EBFA;\n",
              "      box-shadow: 0px 1px 2px rgba(60, 64, 67, 0.3), 0px 1px 3px 1px rgba(60, 64, 67, 0.15);\n",
              "      fill: #174EA6;\n",
              "    }\n",
              "\n",
              "    [theme=dark] .colab-df-convert {\n",
              "      background-color: #3B4455;\n",
              "      fill: #D2E3FC;\n",
              "    }\n",
              "\n",
              "    [theme=dark] .colab-df-convert:hover {\n",
              "      background-color: #434B5C;\n",
              "      box-shadow: 0px 1px 3px 1px rgba(0, 0, 0, 0.15);\n",
              "      filter: drop-shadow(0px 1px 2px rgba(0, 0, 0, 0.3));\n",
              "      fill: #FFFFFF;\n",
              "    }\n",
              "  </style>\n",
              "\n",
              "      <script>\n",
              "        const buttonEl =\n",
              "          document.querySelector('#df-0dc56570-5681-4d4b-935b-e379747e9c73 button.colab-df-convert');\n",
              "        buttonEl.style.display =\n",
              "          google.colab.kernel.accessAllowed ? 'block' : 'none';\n",
              "\n",
              "        async function convertToInteractive(key) {\n",
              "          const element = document.querySelector('#df-0dc56570-5681-4d4b-935b-e379747e9c73');\n",
              "          const dataTable =\n",
              "            await google.colab.kernel.invokeFunction('convertToInteractive',\n",
              "                                                     [key], {});\n",
              "          if (!dataTable) return;\n",
              "\n",
              "          const docLinkHtml = 'Like what you see? Visit the ' +\n",
              "            '<a target=\"_blank\" href=https://colab.research.google.com/notebooks/data_table.ipynb>data table notebook</a>'\n",
              "            + ' to learn more about interactive tables.';\n",
              "          element.innerHTML = '';\n",
              "          dataTable['output_type'] = 'display_data';\n",
              "          await google.colab.output.renderOutput(dataTable, element);\n",
              "          const docLink = document.createElement('div');\n",
              "          docLink.innerHTML = docLinkHtml;\n",
              "          element.appendChild(docLink);\n",
              "        }\n",
              "      </script>\n",
              "    </div>\n",
              "  </div>\n",
              "  "
            ]
          },
          "metadata": {},
          "execution_count": 47
        }
      ],
      "source": [
        "df_2.head()"
      ]
    },
    {
      "cell_type": "code",
      "execution_count": 48,
      "metadata": {
        "id": "QO6yV8lLpdX2",
        "outputId": "3bd41693-a6d4-4511-b7db-95e8a9ba47ac",
        "colab": {
          "base_uri": "https://localhost:8080/",
          "height": 269
        }
      },
      "outputs": [
        {
          "output_type": "execute_result",
          "data": {
            "text/plain": [
              "     Name  Age     Edu  Dept\n",
              "0   Sumit   18  B.Tech    HR\n",
              "1   Rajat   22  B.Tech  TECH\n",
              "2  Shukla   25    Mbbs  DATA\n",
              "3   Ruchi   28     MBA    IT\n",
              "0    Ajay   18  B.Tech   NaN\n",
              "1    Atul   22  B.Tech   NaN\n",
              "2  Sanjay   25    Mbbs   NaN"
            ],
            "text/html": [
              "\n",
              "  <div id=\"df-3e8e522f-5fe5-49cb-8434-d089bc3ffc5f\">\n",
              "    <div class=\"colab-df-container\">\n",
              "      <div>\n",
              "<style scoped>\n",
              "    .dataframe tbody tr th:only-of-type {\n",
              "        vertical-align: middle;\n",
              "    }\n",
              "\n",
              "    .dataframe tbody tr th {\n",
              "        vertical-align: top;\n",
              "    }\n",
              "\n",
              "    .dataframe thead th {\n",
              "        text-align: right;\n",
              "    }\n",
              "</style>\n",
              "<table border=\"1\" class=\"dataframe\">\n",
              "  <thead>\n",
              "    <tr style=\"text-align: right;\">\n",
              "      <th></th>\n",
              "      <th>Name</th>\n",
              "      <th>Age</th>\n",
              "      <th>Edu</th>\n",
              "      <th>Dept</th>\n",
              "    </tr>\n",
              "  </thead>\n",
              "  <tbody>\n",
              "    <tr>\n",
              "      <th>0</th>\n",
              "      <td>Sumit</td>\n",
              "      <td>18</td>\n",
              "      <td>B.Tech</td>\n",
              "      <td>HR</td>\n",
              "    </tr>\n",
              "    <tr>\n",
              "      <th>1</th>\n",
              "      <td>Rajat</td>\n",
              "      <td>22</td>\n",
              "      <td>B.Tech</td>\n",
              "      <td>TECH</td>\n",
              "    </tr>\n",
              "    <tr>\n",
              "      <th>2</th>\n",
              "      <td>Shukla</td>\n",
              "      <td>25</td>\n",
              "      <td>Mbbs</td>\n",
              "      <td>DATA</td>\n",
              "    </tr>\n",
              "    <tr>\n",
              "      <th>3</th>\n",
              "      <td>Ruchi</td>\n",
              "      <td>28</td>\n",
              "      <td>MBA</td>\n",
              "      <td>IT</td>\n",
              "    </tr>\n",
              "    <tr>\n",
              "      <th>0</th>\n",
              "      <td>Ajay</td>\n",
              "      <td>18</td>\n",
              "      <td>B.Tech</td>\n",
              "      <td>NaN</td>\n",
              "    </tr>\n",
              "    <tr>\n",
              "      <th>1</th>\n",
              "      <td>Atul</td>\n",
              "      <td>22</td>\n",
              "      <td>B.Tech</td>\n",
              "      <td>NaN</td>\n",
              "    </tr>\n",
              "    <tr>\n",
              "      <th>2</th>\n",
              "      <td>Sanjay</td>\n",
              "      <td>25</td>\n",
              "      <td>Mbbs</td>\n",
              "      <td>NaN</td>\n",
              "    </tr>\n",
              "  </tbody>\n",
              "</table>\n",
              "</div>\n",
              "      <button class=\"colab-df-convert\" onclick=\"convertToInteractive('df-3e8e522f-5fe5-49cb-8434-d089bc3ffc5f')\"\n",
              "              title=\"Convert this dataframe to an interactive table.\"\n",
              "              style=\"display:none;\">\n",
              "        \n",
              "  <svg xmlns=\"http://www.w3.org/2000/svg\" height=\"24px\"viewBox=\"0 0 24 24\"\n",
              "       width=\"24px\">\n",
              "    <path d=\"M0 0h24v24H0V0z\" fill=\"none\"/>\n",
              "    <path d=\"M18.56 5.44l.94 2.06.94-2.06 2.06-.94-2.06-.94-.94-2.06-.94 2.06-2.06.94zm-11 1L8.5 8.5l.94-2.06 2.06-.94-2.06-.94L8.5 2.5l-.94 2.06-2.06.94zm10 10l.94 2.06.94-2.06 2.06-.94-2.06-.94-.94-2.06-.94 2.06-2.06.94z\"/><path d=\"M17.41 7.96l-1.37-1.37c-.4-.4-.92-.59-1.43-.59-.52 0-1.04.2-1.43.59L10.3 9.45l-7.72 7.72c-.78.78-.78 2.05 0 2.83L4 21.41c.39.39.9.59 1.41.59.51 0 1.02-.2 1.41-.59l7.78-7.78 2.81-2.81c.8-.78.8-2.07 0-2.86zM5.41 20L4 18.59l7.72-7.72 1.47 1.35L5.41 20z\"/>\n",
              "  </svg>\n",
              "      </button>\n",
              "      \n",
              "  <style>\n",
              "    .colab-df-container {\n",
              "      display:flex;\n",
              "      flex-wrap:wrap;\n",
              "      gap: 12px;\n",
              "    }\n",
              "\n",
              "    .colab-df-convert {\n",
              "      background-color: #E8F0FE;\n",
              "      border: none;\n",
              "      border-radius: 50%;\n",
              "      cursor: pointer;\n",
              "      display: none;\n",
              "      fill: #1967D2;\n",
              "      height: 32px;\n",
              "      padding: 0 0 0 0;\n",
              "      width: 32px;\n",
              "    }\n",
              "\n",
              "    .colab-df-convert:hover {\n",
              "      background-color: #E2EBFA;\n",
              "      box-shadow: 0px 1px 2px rgba(60, 64, 67, 0.3), 0px 1px 3px 1px rgba(60, 64, 67, 0.15);\n",
              "      fill: #174EA6;\n",
              "    }\n",
              "\n",
              "    [theme=dark] .colab-df-convert {\n",
              "      background-color: #3B4455;\n",
              "      fill: #D2E3FC;\n",
              "    }\n",
              "\n",
              "    [theme=dark] .colab-df-convert:hover {\n",
              "      background-color: #434B5C;\n",
              "      box-shadow: 0px 1px 3px 1px rgba(0, 0, 0, 0.15);\n",
              "      filter: drop-shadow(0px 1px 2px rgba(0, 0, 0, 0.3));\n",
              "      fill: #FFFFFF;\n",
              "    }\n",
              "  </style>\n",
              "\n",
              "      <script>\n",
              "        const buttonEl =\n",
              "          document.querySelector('#df-3e8e522f-5fe5-49cb-8434-d089bc3ffc5f button.colab-df-convert');\n",
              "        buttonEl.style.display =\n",
              "          google.colab.kernel.accessAllowed ? 'block' : 'none';\n",
              "\n",
              "        async function convertToInteractive(key) {\n",
              "          const element = document.querySelector('#df-3e8e522f-5fe5-49cb-8434-d089bc3ffc5f');\n",
              "          const dataTable =\n",
              "            await google.colab.kernel.invokeFunction('convertToInteractive',\n",
              "                                                     [key], {});\n",
              "          if (!dataTable) return;\n",
              "\n",
              "          const docLinkHtml = 'Like what you see? Visit the ' +\n",
              "            '<a target=\"_blank\" href=https://colab.research.google.com/notebooks/data_table.ipynb>data table notebook</a>'\n",
              "            + ' to learn more about interactive tables.';\n",
              "          element.innerHTML = '';\n",
              "          dataTable['output_type'] = 'display_data';\n",
              "          await google.colab.output.renderOutput(dataTable, element);\n",
              "          const docLink = document.createElement('div');\n",
              "          docLink.innerHTML = docLinkHtml;\n",
              "          element.appendChild(docLink);\n",
              "        }\n",
              "      </script>\n",
              "    </div>\n",
              "  </div>\n",
              "  "
            ]
          },
          "metadata": {},
          "execution_count": 48
        }
      ],
      "source": [
        "# axis = 0: Rows\n",
        "# aixs = 1: Columns\n",
        "pd.concat([df_1, df_2], axis = 0)"
      ]
    },
    {
      "cell_type": "code",
      "execution_count": 49,
      "metadata": {
        "id": "rKNJkfUppdX2",
        "outputId": "b425bf6c-5e16-4b11-fc78-e049817c3d3f",
        "colab": {
          "base_uri": "https://localhost:8080/",
          "height": 175
        }
      },
      "outputs": [
        {
          "output_type": "execute_result",
          "data": {
            "text/plain": [
              "     Name  Age     Edu  Dept    Name   Age     Edu\n",
              "0   Sumit   18  B.Tech    HR    Ajay  18.0  B.Tech\n",
              "1   Rajat   22  B.Tech  TECH    Atul  22.0  B.Tech\n",
              "2  Shukla   25    Mbbs  DATA  Sanjay  25.0    Mbbs\n",
              "3   Ruchi   28     MBA    IT     NaN   NaN     NaN"
            ],
            "text/html": [
              "\n",
              "  <div id=\"df-6b3a4aed-9af3-4270-9945-33b92fef70c6\">\n",
              "    <div class=\"colab-df-container\">\n",
              "      <div>\n",
              "<style scoped>\n",
              "    .dataframe tbody tr th:only-of-type {\n",
              "        vertical-align: middle;\n",
              "    }\n",
              "\n",
              "    .dataframe tbody tr th {\n",
              "        vertical-align: top;\n",
              "    }\n",
              "\n",
              "    .dataframe thead th {\n",
              "        text-align: right;\n",
              "    }\n",
              "</style>\n",
              "<table border=\"1\" class=\"dataframe\">\n",
              "  <thead>\n",
              "    <tr style=\"text-align: right;\">\n",
              "      <th></th>\n",
              "      <th>Name</th>\n",
              "      <th>Age</th>\n",
              "      <th>Edu</th>\n",
              "      <th>Dept</th>\n",
              "      <th>Name</th>\n",
              "      <th>Age</th>\n",
              "      <th>Edu</th>\n",
              "    </tr>\n",
              "  </thead>\n",
              "  <tbody>\n",
              "    <tr>\n",
              "      <th>0</th>\n",
              "      <td>Sumit</td>\n",
              "      <td>18</td>\n",
              "      <td>B.Tech</td>\n",
              "      <td>HR</td>\n",
              "      <td>Ajay</td>\n",
              "      <td>18.0</td>\n",
              "      <td>B.Tech</td>\n",
              "    </tr>\n",
              "    <tr>\n",
              "      <th>1</th>\n",
              "      <td>Rajat</td>\n",
              "      <td>22</td>\n",
              "      <td>B.Tech</td>\n",
              "      <td>TECH</td>\n",
              "      <td>Atul</td>\n",
              "      <td>22.0</td>\n",
              "      <td>B.Tech</td>\n",
              "    </tr>\n",
              "    <tr>\n",
              "      <th>2</th>\n",
              "      <td>Shukla</td>\n",
              "      <td>25</td>\n",
              "      <td>Mbbs</td>\n",
              "      <td>DATA</td>\n",
              "      <td>Sanjay</td>\n",
              "      <td>25.0</td>\n",
              "      <td>Mbbs</td>\n",
              "    </tr>\n",
              "    <tr>\n",
              "      <th>3</th>\n",
              "      <td>Ruchi</td>\n",
              "      <td>28</td>\n",
              "      <td>MBA</td>\n",
              "      <td>IT</td>\n",
              "      <td>NaN</td>\n",
              "      <td>NaN</td>\n",
              "      <td>NaN</td>\n",
              "    </tr>\n",
              "  </tbody>\n",
              "</table>\n",
              "</div>\n",
              "      <button class=\"colab-df-convert\" onclick=\"convertToInteractive('df-6b3a4aed-9af3-4270-9945-33b92fef70c6')\"\n",
              "              title=\"Convert this dataframe to an interactive table.\"\n",
              "              style=\"display:none;\">\n",
              "        \n",
              "  <svg xmlns=\"http://www.w3.org/2000/svg\" height=\"24px\"viewBox=\"0 0 24 24\"\n",
              "       width=\"24px\">\n",
              "    <path d=\"M0 0h24v24H0V0z\" fill=\"none\"/>\n",
              "    <path d=\"M18.56 5.44l.94 2.06.94-2.06 2.06-.94-2.06-.94-.94-2.06-.94 2.06-2.06.94zm-11 1L8.5 8.5l.94-2.06 2.06-.94-2.06-.94L8.5 2.5l-.94 2.06-2.06.94zm10 10l.94 2.06.94-2.06 2.06-.94-2.06-.94-.94-2.06-.94 2.06-2.06.94z\"/><path d=\"M17.41 7.96l-1.37-1.37c-.4-.4-.92-.59-1.43-.59-.52 0-1.04.2-1.43.59L10.3 9.45l-7.72 7.72c-.78.78-.78 2.05 0 2.83L4 21.41c.39.39.9.59 1.41.59.51 0 1.02-.2 1.41-.59l7.78-7.78 2.81-2.81c.8-.78.8-2.07 0-2.86zM5.41 20L4 18.59l7.72-7.72 1.47 1.35L5.41 20z\"/>\n",
              "  </svg>\n",
              "      </button>\n",
              "      \n",
              "  <style>\n",
              "    .colab-df-container {\n",
              "      display:flex;\n",
              "      flex-wrap:wrap;\n",
              "      gap: 12px;\n",
              "    }\n",
              "\n",
              "    .colab-df-convert {\n",
              "      background-color: #E8F0FE;\n",
              "      border: none;\n",
              "      border-radius: 50%;\n",
              "      cursor: pointer;\n",
              "      display: none;\n",
              "      fill: #1967D2;\n",
              "      height: 32px;\n",
              "      padding: 0 0 0 0;\n",
              "      width: 32px;\n",
              "    }\n",
              "\n",
              "    .colab-df-convert:hover {\n",
              "      background-color: #E2EBFA;\n",
              "      box-shadow: 0px 1px 2px rgba(60, 64, 67, 0.3), 0px 1px 3px 1px rgba(60, 64, 67, 0.15);\n",
              "      fill: #174EA6;\n",
              "    }\n",
              "\n",
              "    [theme=dark] .colab-df-convert {\n",
              "      background-color: #3B4455;\n",
              "      fill: #D2E3FC;\n",
              "    }\n",
              "\n",
              "    [theme=dark] .colab-df-convert:hover {\n",
              "      background-color: #434B5C;\n",
              "      box-shadow: 0px 1px 3px 1px rgba(0, 0, 0, 0.15);\n",
              "      filter: drop-shadow(0px 1px 2px rgba(0, 0, 0, 0.3));\n",
              "      fill: #FFFFFF;\n",
              "    }\n",
              "  </style>\n",
              "\n",
              "      <script>\n",
              "        const buttonEl =\n",
              "          document.querySelector('#df-6b3a4aed-9af3-4270-9945-33b92fef70c6 button.colab-df-convert');\n",
              "        buttonEl.style.display =\n",
              "          google.colab.kernel.accessAllowed ? 'block' : 'none';\n",
              "\n",
              "        async function convertToInteractive(key) {\n",
              "          const element = document.querySelector('#df-6b3a4aed-9af3-4270-9945-33b92fef70c6');\n",
              "          const dataTable =\n",
              "            await google.colab.kernel.invokeFunction('convertToInteractive',\n",
              "                                                     [key], {});\n",
              "          if (!dataTable) return;\n",
              "\n",
              "          const docLinkHtml = 'Like what you see? Visit the ' +\n",
              "            '<a target=\"_blank\" href=https://colab.research.google.com/notebooks/data_table.ipynb>data table notebook</a>'\n",
              "            + ' to learn more about interactive tables.';\n",
              "          element.innerHTML = '';\n",
              "          dataTable['output_type'] = 'display_data';\n",
              "          await google.colab.output.renderOutput(dataTable, element);\n",
              "          const docLink = document.createElement('div');\n",
              "          docLink.innerHTML = docLinkHtml;\n",
              "          element.appendChild(docLink);\n",
              "        }\n",
              "      </script>\n",
              "    </div>\n",
              "  </div>\n",
              "  "
            ]
          },
          "metadata": {},
          "execution_count": 49
        }
      ],
      "source": [
        "pd.concat([df_1, df_2], axis = 1)"
      ]
    },
    {
      "cell_type": "code",
      "execution_count": 50,
      "metadata": {
        "id": "NLMsJBqYpdX2",
        "outputId": "f84562ff-3def-4fa2-dd9e-0769a6ff59b7",
        "colab": {
          "base_uri": "https://localhost:8080/",
          "height": 269
        }
      },
      "outputs": [
        {
          "output_type": "execute_result",
          "data": {
            "text/plain": [
              "     Name  Age     Edu  Dept\n",
              "0   Sumit   18  B.Tech    HR\n",
              "1   Rajat   22  B.Tech  TECH\n",
              "2  Shukla   25    Mbbs  DATA\n",
              "3   Ruchi   28     MBA    IT\n",
              "0    Ajay   18  B.Tech   NaN\n",
              "1    Atul   22  B.Tech   NaN\n",
              "2  Sanjay   25    Mbbs   NaN"
            ],
            "text/html": [
              "\n",
              "  <div id=\"df-7615fd39-a3fa-4030-a43f-39bc0979ee15\">\n",
              "    <div class=\"colab-df-container\">\n",
              "      <div>\n",
              "<style scoped>\n",
              "    .dataframe tbody tr th:only-of-type {\n",
              "        vertical-align: middle;\n",
              "    }\n",
              "\n",
              "    .dataframe tbody tr th {\n",
              "        vertical-align: top;\n",
              "    }\n",
              "\n",
              "    .dataframe thead th {\n",
              "        text-align: right;\n",
              "    }\n",
              "</style>\n",
              "<table border=\"1\" class=\"dataframe\">\n",
              "  <thead>\n",
              "    <tr style=\"text-align: right;\">\n",
              "      <th></th>\n",
              "      <th>Name</th>\n",
              "      <th>Age</th>\n",
              "      <th>Edu</th>\n",
              "      <th>Dept</th>\n",
              "    </tr>\n",
              "  </thead>\n",
              "  <tbody>\n",
              "    <tr>\n",
              "      <th>0</th>\n",
              "      <td>Sumit</td>\n",
              "      <td>18</td>\n",
              "      <td>B.Tech</td>\n",
              "      <td>HR</td>\n",
              "    </tr>\n",
              "    <tr>\n",
              "      <th>1</th>\n",
              "      <td>Rajat</td>\n",
              "      <td>22</td>\n",
              "      <td>B.Tech</td>\n",
              "      <td>TECH</td>\n",
              "    </tr>\n",
              "    <tr>\n",
              "      <th>2</th>\n",
              "      <td>Shukla</td>\n",
              "      <td>25</td>\n",
              "      <td>Mbbs</td>\n",
              "      <td>DATA</td>\n",
              "    </tr>\n",
              "    <tr>\n",
              "      <th>3</th>\n",
              "      <td>Ruchi</td>\n",
              "      <td>28</td>\n",
              "      <td>MBA</td>\n",
              "      <td>IT</td>\n",
              "    </tr>\n",
              "    <tr>\n",
              "      <th>0</th>\n",
              "      <td>Ajay</td>\n",
              "      <td>18</td>\n",
              "      <td>B.Tech</td>\n",
              "      <td>NaN</td>\n",
              "    </tr>\n",
              "    <tr>\n",
              "      <th>1</th>\n",
              "      <td>Atul</td>\n",
              "      <td>22</td>\n",
              "      <td>B.Tech</td>\n",
              "      <td>NaN</td>\n",
              "    </tr>\n",
              "    <tr>\n",
              "      <th>2</th>\n",
              "      <td>Sanjay</td>\n",
              "      <td>25</td>\n",
              "      <td>Mbbs</td>\n",
              "      <td>NaN</td>\n",
              "    </tr>\n",
              "  </tbody>\n",
              "</table>\n",
              "</div>\n",
              "      <button class=\"colab-df-convert\" onclick=\"convertToInteractive('df-7615fd39-a3fa-4030-a43f-39bc0979ee15')\"\n",
              "              title=\"Convert this dataframe to an interactive table.\"\n",
              "              style=\"display:none;\">\n",
              "        \n",
              "  <svg xmlns=\"http://www.w3.org/2000/svg\" height=\"24px\"viewBox=\"0 0 24 24\"\n",
              "       width=\"24px\">\n",
              "    <path d=\"M0 0h24v24H0V0z\" fill=\"none\"/>\n",
              "    <path d=\"M18.56 5.44l.94 2.06.94-2.06 2.06-.94-2.06-.94-.94-2.06-.94 2.06-2.06.94zm-11 1L8.5 8.5l.94-2.06 2.06-.94-2.06-.94L8.5 2.5l-.94 2.06-2.06.94zm10 10l.94 2.06.94-2.06 2.06-.94-2.06-.94-.94-2.06-.94 2.06-2.06.94z\"/><path d=\"M17.41 7.96l-1.37-1.37c-.4-.4-.92-.59-1.43-.59-.52 0-1.04.2-1.43.59L10.3 9.45l-7.72 7.72c-.78.78-.78 2.05 0 2.83L4 21.41c.39.39.9.59 1.41.59.51 0 1.02-.2 1.41-.59l7.78-7.78 2.81-2.81c.8-.78.8-2.07 0-2.86zM5.41 20L4 18.59l7.72-7.72 1.47 1.35L5.41 20z\"/>\n",
              "  </svg>\n",
              "      </button>\n",
              "      \n",
              "  <style>\n",
              "    .colab-df-container {\n",
              "      display:flex;\n",
              "      flex-wrap:wrap;\n",
              "      gap: 12px;\n",
              "    }\n",
              "\n",
              "    .colab-df-convert {\n",
              "      background-color: #E8F0FE;\n",
              "      border: none;\n",
              "      border-radius: 50%;\n",
              "      cursor: pointer;\n",
              "      display: none;\n",
              "      fill: #1967D2;\n",
              "      height: 32px;\n",
              "      padding: 0 0 0 0;\n",
              "      width: 32px;\n",
              "    }\n",
              "\n",
              "    .colab-df-convert:hover {\n",
              "      background-color: #E2EBFA;\n",
              "      box-shadow: 0px 1px 2px rgba(60, 64, 67, 0.3), 0px 1px 3px 1px rgba(60, 64, 67, 0.15);\n",
              "      fill: #174EA6;\n",
              "    }\n",
              "\n",
              "    [theme=dark] .colab-df-convert {\n",
              "      background-color: #3B4455;\n",
              "      fill: #D2E3FC;\n",
              "    }\n",
              "\n",
              "    [theme=dark] .colab-df-convert:hover {\n",
              "      background-color: #434B5C;\n",
              "      box-shadow: 0px 1px 3px 1px rgba(0, 0, 0, 0.15);\n",
              "      filter: drop-shadow(0px 1px 2px rgba(0, 0, 0, 0.3));\n",
              "      fill: #FFFFFF;\n",
              "    }\n",
              "  </style>\n",
              "\n",
              "      <script>\n",
              "        const buttonEl =\n",
              "          document.querySelector('#df-7615fd39-a3fa-4030-a43f-39bc0979ee15 button.colab-df-convert');\n",
              "        buttonEl.style.display =\n",
              "          google.colab.kernel.accessAllowed ? 'block' : 'none';\n",
              "\n",
              "        async function convertToInteractive(key) {\n",
              "          const element = document.querySelector('#df-7615fd39-a3fa-4030-a43f-39bc0979ee15');\n",
              "          const dataTable =\n",
              "            await google.colab.kernel.invokeFunction('convertToInteractive',\n",
              "                                                     [key], {});\n",
              "          if (!dataTable) return;\n",
              "\n",
              "          const docLinkHtml = 'Like what you see? Visit the ' +\n",
              "            '<a target=\"_blank\" href=https://colab.research.google.com/notebooks/data_table.ipynb>data table notebook</a>'\n",
              "            + ' to learn more about interactive tables.';\n",
              "          element.innerHTML = '';\n",
              "          dataTable['output_type'] = 'display_data';\n",
              "          await google.colab.output.renderOutput(dataTable, element);\n",
              "          const docLink = document.createElement('div');\n",
              "          docLink.innerHTML = docLinkHtml;\n",
              "          element.appendChild(docLink);\n",
              "        }\n",
              "      </script>\n",
              "    </div>\n",
              "  </div>\n",
              "  "
            ]
          },
          "metadata": {},
          "execution_count": 50
        }
      ],
      "source": [
        "# append is specific to rows only\n",
        "df_1.append(df_2)"
      ]
    },
    {
      "cell_type": "code",
      "execution_count": 51,
      "metadata": {
        "id": "JJ04Rco7pdX2"
      },
      "outputs": [],
      "source": [
        "a = pd.Series(['A', 'B', 'C', 'D'])"
      ]
    },
    {
      "cell_type": "code",
      "execution_count": 52,
      "metadata": {
        "id": "_z_Nnqc9pdX3",
        "outputId": "0a044335-ff72-490f-c296-05420160e139",
        "colab": {
          "base_uri": "https://localhost:8080/"
        }
      },
      "outputs": [
        {
          "output_type": "execute_result",
          "data": {
            "text/plain": [
              "0    A\n",
              "1    B\n",
              "dtype: object"
            ]
          },
          "metadata": {},
          "execution_count": 52
        }
      ],
      "source": [
        "a[a.isin(['A', 'B'])]"
      ]
    },
    {
      "cell_type": "markdown",
      "source": [
        "\n",
        "\n",
        "---\n",
        "\n"
      ],
      "metadata": {
        "id": "ZL_GngTcsjUL"
      }
    },
    {
      "cell_type": "markdown",
      "source": [
        "Pattern "
      ],
      "metadata": {
        "id": "fsmsSEH2pik2"
      }
    },
    {
      "cell_type": "code",
      "execution_count": 53,
      "metadata": {
        "id": "wVfMRtYGwUu6",
        "colab": {
          "base_uri": "https://localhost:8080/"
        },
        "outputId": "3fdf1129-5d00-425e-9e55-af5bc834200b"
      },
      "outputs": [
        {
          "output_type": "stream",
          "name": "stdout",
          "text": [
            "  _\n",
            "   __\n",
            "    ___\n",
            "     ____\n",
            "      _____\n",
            "       ______\n",
            "        _______\n",
            "         ________\n",
            "          _________\n",
            "           __________\n"
          ]
        }
      ],
      "source": [
        "n=10\n",
        "for x in range(1,n+1):\n",
        "    print(\" \"*(x+1)+\"_\"*x)"
      ]
    },
    {
      "cell_type": "code",
      "source": [
        "n=5\n",
        "for y in range(1,n):\n",
        "    print(\"_\"*(n-1-y)+\"*\"*(y)+\"*\"*(y-1)+\"_\"*(n-1-y))"
      ],
      "metadata": {
        "colab": {
          "base_uri": "https://localhost:8080/"
        },
        "id": "b5vk4jMJAaZj",
        "outputId": "ca5b032a-c0ae-4efe-e8d8-ff7f7d527d41"
      },
      "execution_count": 54,
      "outputs": [
        {
          "output_type": "stream",
          "name": "stdout",
          "text": [
            "___*___\n",
            "__***__\n",
            "_*****_\n",
            "*******\n"
          ]
        }
      ]
    },
    {
      "cell_type": "code",
      "source": [
        "n=10\n",
        "for y in range(1,n):\n",
        "    print(\" \"*(n-y)+\"*\"*(y)+\"*\"*(y-1))\n",
        "for y in range(n,0,-1):\n",
        "    print(\" \"*(n-y)+\"*\"*(y)+\"*\"*(y-1))"
      ],
      "metadata": {
        "colab": {
          "base_uri": "https://localhost:8080/"
        },
        "id": "jUEEwmfG03-f",
        "outputId": "d16149cd-3714-4f6d-a0ab-1407cc03c6e1"
      },
      "execution_count": 55,
      "outputs": [
        {
          "output_type": "stream",
          "name": "stdout",
          "text": [
            "         *\n",
            "        ***\n",
            "       *****\n",
            "      *******\n",
            "     *********\n",
            "    ***********\n",
            "   *************\n",
            "  ***************\n",
            " *****************\n",
            "*******************\n",
            " *****************\n",
            "  ***************\n",
            "   *************\n",
            "    ***********\n",
            "     *********\n",
            "      *******\n",
            "       *****\n",
            "        ***\n",
            "         *\n"
          ]
        }
      ]
    },
    {
      "cell_type": "code",
      "source": [
        "n = 5\n",
        "for x in range (1,n+1):\n",
        "    print(' '*x + '*'*(n+1-x))"
      ],
      "metadata": {
        "colab": {
          "base_uri": "https://localhost:8080/"
        },
        "id": "2VTa0ea3NXmg",
        "outputId": "c747e0fe-8df5-4e42-a276-515778fbd129"
      },
      "execution_count": 56,
      "outputs": [
        {
          "output_type": "stream",
          "name": "stdout",
          "text": [
            " *****\n",
            "  ****\n",
            "   ***\n",
            "    **\n",
            "     *\n"
          ]
        }
      ]
    }
  ]
}