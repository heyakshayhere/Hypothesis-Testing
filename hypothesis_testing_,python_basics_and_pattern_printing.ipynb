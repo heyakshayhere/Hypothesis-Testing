{
  "nbformat": 4,
  "nbformat_minor": 0,
  "metadata": {
    "colab": {
      "name": "hypothesis_testing ,python basics and pattern printing",
      "provenance": [],
      "collapsed_sections": []
    },
    "kernelspec": {
      "name": "python3",
      "display_name": "Python 3"
    },
    "language_info": {
      "name": "python"
    }
  },
  "cells": [
    {
      "cell_type": "markdown",
      "source": [
        "Binomial Distribution"
      ],
      "metadata": {
        "id": "3H0O0LLF-m-S"
      }
    },
    {
      "cell_type": "code",
      "source": [
        "from scipy.stats import binom,norm"
      ],
      "metadata": {
        "id": "5oqjGM7p7uyX"
      },
      "execution_count": 1,
      "outputs": []
    },
    {
      "cell_type": "code",
      "source": [
        "#it takes n and p as parameters\n",
        "#it returns mean and variance\n",
        "n = 20\n",
        "p = .5\n",
        "binom.stats(n, p)"
      ],
      "metadata": {
        "colab": {
          "base_uri": "https://localhost:8080/"
        },
        "id": "GY1iuosK8CQD",
        "outputId": "22c03f72-fd04-429a-bf85-94bf9f0f7ae4"
      },
      "execution_count": 2,
      "outputs": [
        {
          "output_type": "execute_result",
          "data": {
            "text/plain": [
              "(array(10.), array(5.))"
            ]
          },
          "metadata": {},
          "execution_count": 2
        }
      ]
    },
    {
      "cell_type": "code",
      "source": [
        "#it takes parameters r,n,p\n",
        "r = 3\n",
        "n = 10\n",
        "p = 1/4\n",
        "binom.pmf(r,n,p)"
      ],
      "metadata": {
        "colab": {
          "base_uri": "https://localhost:8080/"
        },
        "id": "ke-8-pdj8RMe",
        "outputId": "e0f72e69-32c0-4e95-82f7-ed3ad05a4d37"
      },
      "execution_count": 3,
      "outputs": [
        {
          "output_type": "execute_result",
          "data": {
            "text/plain": [
              "0.2502822875976565"
            ]
          },
          "metadata": {},
          "execution_count": 3
        }
      ]
    },
    {
      "cell_type": "markdown",
      "source": [
        "z test python"
      ],
      "metadata": {
        "id": "foMZ-SLRCT7q"
      }
    },
    {
      "cell_type": "code",
      "source": [
        "import math"
      ],
      "metadata": {
        "id": "X1ukDvR0_dy6"
      },
      "execution_count": 4,
      "outputs": []
    },
    {
      "cell_type": "code",
      "source": [
        "n = 49\n",
        "mean = 6\n",
        "standard_deviation = 1.2\n",
        "z = 1.96"
      ],
      "metadata": {
        "id": "DbQMDQKQCdv2"
      },
      "execution_count": 5,
      "outputs": []
    },
    {
      "cell_type": "code",
      "source": [
        "mean-z*(standard_deviation/math.sqrt(n)),mean+z*(standard_deviation/math.sqrt(n))"
      ],
      "metadata": {
        "colab": {
          "base_uri": "https://localhost:8080/"
        },
        "id": "3hZjQxDeCtAB",
        "outputId": "85fe2ea8-7beb-4b6c-94cd-76a5cc6c2153"
      },
      "execution_count": 6,
      "outputs": [
        {
          "output_type": "execute_result",
          "data": {
            "text/plain": [
              "(5.664, 6.336)"
            ]
          },
          "metadata": {},
          "execution_count": 6
        }
      ]
    },
    {
      "cell_type": "markdown",
      "source": [
        "p value method"
      ],
      "metadata": {
        "id": "iv5iGBApGqIk"
      }
    },
    {
      "cell_type": "code",
      "source": [
        "n = 40\n",
        "mean1 = 92.84\n",
        "mean2 = 92.67\n",
        "standard_deviation = 1.79\n",
        "z = 1.64"
      ],
      "metadata": {
        "id": "S5XpdGO_Go5l"
      },
      "execution_count": 7,
      "outputs": []
    },
    {
      "cell_type": "code",
      "source": [
        "abs_mean = abs(mean1-mean2)\n",
        "z_value = abs_mean/(standard_deviation/math.sqrt(n))\n",
        "print(f'z_value : {z_value}')"
      ],
      "metadata": {
        "colab": {
          "base_uri": "https://localhost:8080/"
        },
        "id": "Lu0-ho-3Dyra",
        "outputId": "22da5bc5-f83c-4a73-d035-4cb171733b9e"
      },
      "execution_count": 8,
      "outputs": [
        {
          "output_type": "stream",
          "name": "stdout",
          "text": [
            "z_value : 0.6006560918755641\n"
          ]
        }
      ]
    },
    {
      "cell_type": "code",
      "source": [
        "p_value = norm.sf(abs(z_value)) \n",
        "\n",
        "print(f'actual p value : {p_value}')\n",
        "print(f'p_value for lower tail (AUC): {1 - p_value}')\n",
        "print(f'p_value for upper tail : {p_value}')\n",
        "print(f'p_value for two tail : {2*p_value}')"
      ],
      "metadata": {
        "colab": {
          "base_uri": "https://localhost:8080/"
        },
        "id": "fOes--RCJz7G",
        "outputId": "63425eca-10f1-4818-f402-e45a4f393d93"
      },
      "execution_count": 9,
      "outputs": [
        {
          "output_type": "stream",
          "name": "stdout",
          "text": [
            "actual p value : 0.2740345348370262\n",
            "p_value for lower tail (AUC): 0.7259654651629738\n",
            "p_value for upper tail : 0.2740345348370262\n",
            "p_value for two tail : 0.5480690696740524\n"
          ]
        }
      ]
    },
    {
      "cell_type": "markdown",
      "source": [
        "Decision on hypothesis testing"
      ],
      "metadata": {
        "id": "C8_xDSHZM5Mf"
      }
    },
    {
      "cell_type": "code",
      "source": [
        "value = 0.5480\n",
        "alpha = 0.05\n",
        "if value > alpha:\n",
        "    print ('Fail to reject null hypothesis')\n",
        "else:\n",
        "    print ('Reject null hypothesis')"
      ],
      "metadata": {
        "colab": {
          "base_uri": "https://localhost:8080/"
        },
        "id": "lJqdwZ1IMW5d",
        "outputId": "c284457e-5003-4ef0-ba76-564f47b693e1"
      },
      "execution_count": 10,
      "outputs": [
        {
          "output_type": "stream",
          "name": "stdout",
          "text": [
            "Fail to reject null hypothesis\n"
          ]
        }
      ]
    },
    {
      "cell_type": "markdown",
      "source": [
        "\n",
        "\n",
        "---\n",
        "\n"
      ],
      "metadata": {
        "id": "_JzOEA3lTiA-"
      }
    },
    {
      "cell_type": "markdown",
      "source": [
        "A = [1,2,5,8,4,9,10,1,3,5,7]\n",
        "\n",
        "B = [2,8,11,14,17,8,99,3,2,1,2]\n",
        "\n",
        "output = [1,8,5,14,4,8,10,3,3,1,7]"
      ],
      "metadata": {
        "id": "rUK-Yu0wTbn1"
      }
    },
    {
      "cell_type": "code",
      "source": [
        "A = [1,2,5,8,4,9,10,1,3,5,7]\n",
        "\n",
        "B = [2,8,11,14,17,8,99,3,2,1,2]"
      ],
      "metadata": {
        "id": "ahdER8N9T318"
      },
      "execution_count": 11,
      "outputs": []
    },
    {
      "cell_type": "code",
      "source": [
        "a = {k:v for k,v in enumerate(A) if k %2==0}\n",
        "b = {k:v for k,v in enumerate(B) if k %2!=0}"
      ],
      "metadata": {
        "id": "SmPcpnBYKhbl"
      },
      "execution_count": 12,
      "outputs": []
    },
    {
      "cell_type": "code",
      "source": [
        "c = {**a,**b}\n",
        "sorted_data = sorted(c.items(), key = lambda kv: kv[0])"
      ],
      "metadata": {
        "id": "rpdusCnfM_N7"
      },
      "execution_count": 13,
      "outputs": []
    },
    {
      "cell_type": "code",
      "source": [
        "output = [x[1] for x in sorted_data]\n",
        "output"
      ],
      "metadata": {
        "colab": {
          "base_uri": "https://localhost:8080/"
        },
        "id": "z8XaTLKKTHK7",
        "outputId": "aaa0d52b-cf8b-4b23-aee2-0e9a65d25652"
      },
      "execution_count": 14,
      "outputs": [
        {
          "output_type": "execute_result",
          "data": {
            "text/plain": [
              "[1, 8, 5, 14, 4, 8, 10, 3, 3, 1, 7]"
            ]
          },
          "metadata": {},
          "execution_count": 14
        }
      ]
    },
    {
      "cell_type": "code",
      "source": [
        "T=(1,2,3)\n",
        "T=[1,2,3]\n",
        "#this gives an error\n",
        "#T={1,2,3}\n",
        "T*2"
      ],
      "metadata": {
        "id": "KvLdm6kYMXF8",
        "colab": {
          "base_uri": "https://localhost:8080/"
        },
        "outputId": "ace371a8-c5de-43ac-8ee2-dc82f5f5e0b8"
      },
      "execution_count": 15,
      "outputs": [
        {
          "output_type": "execute_result",
          "data": {
            "text/plain": [
              "[1, 2, 3, 1, 2, 3]"
            ]
          },
          "metadata": {},
          "execution_count": 15
        }
      ]
    },
    {
      "cell_type": "code",
      "source": [
        "def addn(*args):\n",
        "  return (sum(args))\n",
        "\n",
        "print(addn(1,2,3,4))\n",
        "print(addn(5,6))"
      ],
      "metadata": {
        "colab": {
          "base_uri": "https://localhost:8080/"
        },
        "id": "LOr_mbVaJAEO",
        "outputId": "f99b1808-c9be-4715-ad33-4e7883433d6e"
      },
      "execution_count": 16,
      "outputs": [
        {
          "output_type": "stream",
          "name": "stdout",
          "text": [
            "10\n",
            "11\n"
          ]
        }
      ]
    },
    {
      "cell_type": "code",
      "source": [
        "list_1 = [1,2,3]\n",
        "list_2 = [4,5,6]\n",
        "\n",
        "import numpy as np\n",
        "np.array(list_1) + np.array(list_2)\n",
        "\n",
        "list_1 + list_2"
      ],
      "metadata": {
        "colab": {
          "base_uri": "https://localhost:8080/"
        },
        "id": "wDoIZksQJzC8",
        "outputId": "e59654d6-d6ef-4fdd-9f3d-29a6bfd10eed"
      },
      "execution_count": 17,
      "outputs": [
        {
          "output_type": "execute_result",
          "data": {
            "text/plain": [
              "[1, 2, 3, 4, 5, 6]"
            ]
          },
          "metadata": {},
          "execution_count": 17
        }
      ]
    },
    {
      "cell_type": "code",
      "source": [
        "import pandas as pd \n",
        "s1 = pd.Series([0,2,4,6,8,10,12])\n",
        "s2 = pd.Series([0,3,6,9,12,15])\n",
        "\n",
        "print(s1[s1.isin(s2)].index)\n",
        "print(s2[s2.isin(s1)].index)\n",
        "print(s1[s1.isin(s2)].index == s2[s2.isin(s1)].index)"
      ],
      "metadata": {
        "colab": {
          "base_uri": "https://localhost:8080/"
        },
        "id": "0yrUTRcvKfvO",
        "outputId": "74ac0296-ebe4-4abd-fa1d-7675bbdf2c3d"
      },
      "execution_count": 18,
      "outputs": [
        {
          "output_type": "stream",
          "name": "stdout",
          "text": [
            "Int64Index([0, 3, 6], dtype='int64')\n",
            "Int64Index([0, 2, 4], dtype='int64')\n",
            "[ True False False]\n"
          ]
        }
      ]
    },
    {
      "cell_type": "code",
      "execution_count": 19,
      "metadata": {
        "id": "wVfMRtYGwUu6",
        "colab": {
          "base_uri": "https://localhost:8080/"
        },
        "outputId": "c7a022da-3c3e-48fd-9e1c-2747520a0a40"
      },
      "outputs": [
        {
          "output_type": "stream",
          "name": "stdout",
          "text": [
            "  _\n",
            "   __\n",
            "    ___\n",
            "     ____\n",
            "      _____\n",
            "       ______\n",
            "        _______\n",
            "         ________\n",
            "          _________\n",
            "           __________\n"
          ]
        }
      ],
      "source": [
        "n=10\n",
        "for x in range(1,n+1):\n",
        "    print(\" \"*(x+1)+\"_\"*x)"
      ]
    },
    {
      "cell_type": "code",
      "source": [
        "n=5\n",
        "for y in range(1,n):\n",
        "    print(\"_\"*(n-1-y)+\"*\"*(y)+\"*\"*(y-1)+\"_\"*(n-1-y))"
      ],
      "metadata": {
        "colab": {
          "base_uri": "https://localhost:8080/"
        },
        "id": "b5vk4jMJAaZj",
        "outputId": "3e0f1667-a44b-47ad-a4ab-468b083110c8"
      },
      "execution_count": 20,
      "outputs": [
        {
          "output_type": "stream",
          "name": "stdout",
          "text": [
            "___*___\n",
            "__***__\n",
            "_*****_\n",
            "*******\n"
          ]
        }
      ]
    },
    {
      "cell_type": "code",
      "source": [
        "n=10\n",
        "for y in range(1,n):\n",
        "    print(\" \"*(n-y)+\"*\"*(y)+\"*\"*(y-1))\n",
        "for y in range(n,0,-1):\n",
        "    print(\" \"*(n-y)+\"*\"*(y)+\"*\"*(y-1))"
      ],
      "metadata": {
        "colab": {
          "base_uri": "https://localhost:8080/"
        },
        "id": "jUEEwmfG03-f",
        "outputId": "95059392-927f-4bbd-c25b-48543ed4315e"
      },
      "execution_count": 21,
      "outputs": [
        {
          "output_type": "stream",
          "name": "stdout",
          "text": [
            "         *\n",
            "        ***\n",
            "       *****\n",
            "      *******\n",
            "     *********\n",
            "    ***********\n",
            "   *************\n",
            "  ***************\n",
            " *****************\n",
            "*******************\n",
            " *****************\n",
            "  ***************\n",
            "   *************\n",
            "    ***********\n",
            "     *********\n",
            "      *******\n",
            "       *****\n",
            "        ***\n",
            "         *\n"
          ]
        }
      ]
    },
    {
      "cell_type": "code",
      "source": [
        "n = 5\n",
        "for x in range (1,n+1):\n",
        "    print(' '*x + '*'*(n+1-x))"
      ],
      "metadata": {
        "colab": {
          "base_uri": "https://localhost:8080/"
        },
        "id": "2VTa0ea3NXmg",
        "outputId": "ae034dd8-826e-4f45-a02e-58fc707d13b7"
      },
      "execution_count": 22,
      "outputs": [
        {
          "output_type": "stream",
          "name": "stdout",
          "text": [
            " *****\n",
            "  ****\n",
            "   ***\n",
            "    **\n",
            "     *\n"
          ]
        }
      ]
    }
  ]
}